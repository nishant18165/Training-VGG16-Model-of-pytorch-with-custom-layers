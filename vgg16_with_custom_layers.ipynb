{
  "nbformat": 4,
  "nbformat_minor": 0,
  "metadata": {
    "colab": {
      "name": "vgg16_with_custom_layers.ipynb",
      "provenance": [],
      "collapsed_sections": [],
      "include_colab_link": true
    },
    "kernelspec": {
      "name": "python3",
      "display_name": "Python 3"
    },
    "language_info": {
      "name": "python"
    },
    "accelerator": "GPU"
  },
  "cells": [
    {
      "cell_type": "markdown",
      "metadata": {
        "id": "view-in-github",
        "colab_type": "text"
      },
      "source": [
        "<a href=\"https://colab.research.google.com/github/nishant18165/Training-VGG16-Model-of-pytorch-with-custom-layers/blob/main/vgg16_with_custom_layers.ipynb\" target=\"_parent\"><img src=\"https://colab.research.google.com/assets/colab-badge.svg\" alt=\"Open In Colab\"/></a>"
      ]
    },
    {
      "cell_type": "code",
      "metadata": {
        "id": "bKEO240E1Gkf"
      },
      "source": [
        "import torch\n",
        "import torchvision\n",
        "import torchvision.transforms as transforms\n",
        "import torch.optim as optim\n",
        "#import torch.nn.functional as F\n",
        "import torch.nn as nn\n",
        "import matplotlib.pyplot as plt\n",
        "from torchvision import models\n",
        "import torch.utils.data as to"
      ],
      "execution_count": null,
      "outputs": []
    },
    {
      "cell_type": "code",
      "metadata": {
        "colab": {
          "base_uri": "https://localhost:8080/"
        },
        "id": "CUxExQqj3fxO",
        "outputId": "1350d429-9bda-4cb0-f92a-265c0d44f7b9"
      },
      "source": [
        "# check GPU availability\n",
        "\n",
        "device = torch.device(\"cuda:0\" if torch.cuda.is_available() else \"cpu\")\n",
        "print(device)\n"
      ],
      "execution_count": null,
      "outputs": [
        {
          "output_type": "stream",
          "text": [
            "cuda:0\n"
          ],
          "name": "stdout"
        }
      ]
    },
    {
      "cell_type": "code",
      "metadata": {
        "colab": {
          "base_uri": "https://localhost:8080/"
        },
        "id": "zxxhcuoq3t5E",
        "outputId": "10863122-7291-4b0a-a244-0e51410f8613"
      },
      "source": [
        "\"\"\"Loading dataset from torch\"\"\"\n",
        "transform = transforms.Compose(\n",
        "    [transforms.Resize((224, 224)),\n",
        "     transforms.ToTensor(),\n",
        "     transforms.Normalize((0.5, 0.5, 0.5), (0.5, 0.5, 0.5))])\n",
        "trainset = torchvision.datasets.CIFAR10(root='./data', train=True,\n",
        "                                        download=True, transform=transform)\n",
        "\n",
        "train_dataset, val_dataset = to.random_split(trainset,\n",
        "                                               [40000, 10000])\n",
        "train_dataloader = torch.utils.data.DataLoader(train_dataset, batch_size=128,\n",
        "                                          shuffle=True)\n",
        "val_dataloader=torch.utils.data.DataLoader(val_dataset, batch_size=128,\n",
        "                                          shuffle=True)\n",
        "testset = torchvision.datasets.CIFAR10(root='./data', train=False,\n",
        "                                       download=True, transform=transform)\n",
        "test_dataloader = torch.utils.data.DataLoader(testset, batch_size=128,\n",
        "                                         shuffle=False)"
      ],
      "execution_count": null,
      "outputs": [
        {
          "output_type": "stream",
          "text": [
            "Files already downloaded and verified\n",
            "Files already downloaded and verified\n"
          ],
          "name": "stdout"
        }
      ]
    },
    {
      "cell_type": "code",
      "metadata": {
        "id": "NR0HgXucIuQA"
      },
      "source": [
        ""
      ],
      "execution_count": null,
      "outputs": []
    },
    {
      "cell_type": "code",
      "metadata": {
        "colab": {
          "base_uri": "https://localhost:8080/"
        },
        "id": "gMGYt4Rj-kUe",
        "outputId": "d3181993-7e73-486e-a261-131344976eef"
      },
      "source": [
        "print(len(train_dataset))\n",
        "print(len(val_dataset))\n",
        "print(len(val_dataloader))\n",
        "print(len(test_dataloader))\n"
      ],
      "execution_count": null,
      "outputs": [
        {
          "output_type": "stream",
          "text": [
            "40000\n",
            "10000\n",
            "313\n",
            "313\n"
          ],
          "name": "stdout"
        }
      ]
    },
    {
      "cell_type": "code",
      "metadata": {
        "colab": {
          "base_uri": "https://localhost:8080/"
        },
        "id": "mUx82_LM32a8",
        "outputId": "26e5325c-7114-4c3d-bf33-3596b3437be2"
      },
      "source": [
        "\"\"\"Loading Model\"\"\"\n",
        "model = models.vgg16(pretrained=True)\n",
        "#print(model)"
      ],
      "execution_count": null,
      "outputs": [
        {
          "output_type": "stream",
          "text": [
            "VGG(\n",
            "  (features): Sequential(\n",
            "    (0): Conv2d(3, 64, kernel_size=(3, 3), stride=(1, 1), padding=(1, 1))\n",
            "    (1): ReLU(inplace=True)\n",
            "    (2): Conv2d(64, 64, kernel_size=(3, 3), stride=(1, 1), padding=(1, 1))\n",
            "    (3): ReLU(inplace=True)\n",
            "    (4): MaxPool2d(kernel_size=2, stride=2, padding=0, dilation=1, ceil_mode=False)\n",
            "    (5): Conv2d(64, 128, kernel_size=(3, 3), stride=(1, 1), padding=(1, 1))\n",
            "    (6): ReLU(inplace=True)\n",
            "    (7): Conv2d(128, 128, kernel_size=(3, 3), stride=(1, 1), padding=(1, 1))\n",
            "    (8): ReLU(inplace=True)\n",
            "    (9): MaxPool2d(kernel_size=2, stride=2, padding=0, dilation=1, ceil_mode=False)\n",
            "    (10): Conv2d(128, 256, kernel_size=(3, 3), stride=(1, 1), padding=(1, 1))\n",
            "    (11): ReLU(inplace=True)\n",
            "    (12): Conv2d(256, 256, kernel_size=(3, 3), stride=(1, 1), padding=(1, 1))\n",
            "    (13): ReLU(inplace=True)\n",
            "    (14): Conv2d(256, 256, kernel_size=(3, 3), stride=(1, 1), padding=(1, 1))\n",
            "    (15): ReLU(inplace=True)\n",
            "    (16): MaxPool2d(kernel_size=2, stride=2, padding=0, dilation=1, ceil_mode=False)\n",
            "    (17): Conv2d(256, 512, kernel_size=(3, 3), stride=(1, 1), padding=(1, 1))\n",
            "    (18): ReLU(inplace=True)\n",
            "    (19): Conv2d(512, 512, kernel_size=(3, 3), stride=(1, 1), padding=(1, 1))\n",
            "    (20): ReLU(inplace=True)\n",
            "    (21): Conv2d(512, 512, kernel_size=(3, 3), stride=(1, 1), padding=(1, 1))\n",
            "    (22): ReLU(inplace=True)\n",
            "    (23): MaxPool2d(kernel_size=2, stride=2, padding=0, dilation=1, ceil_mode=False)\n",
            "    (24): Conv2d(512, 512, kernel_size=(3, 3), stride=(1, 1), padding=(1, 1))\n",
            "    (25): ReLU(inplace=True)\n",
            "    (26): Conv2d(512, 512, kernel_size=(3, 3), stride=(1, 1), padding=(1, 1))\n",
            "    (27): ReLU(inplace=True)\n",
            "    (28): Conv2d(512, 512, kernel_size=(3, 3), stride=(1, 1), padding=(1, 1))\n",
            "    (29): ReLU(inplace=True)\n",
            "    (30): MaxPool2d(kernel_size=2, stride=2, padding=0, dilation=1, ceil_mode=False)\n",
            "  )\n",
            "  (avgpool): AdaptiveAvgPool2d(output_size=(7, 7))\n",
            "  (classifier): Sequential(\n",
            "    (0): Linear(in_features=25088, out_features=4096, bias=True)\n",
            "    (1): ReLU(inplace=True)\n",
            "    (2): Dropout(p=0.5, inplace=False)\n",
            "    (3): Linear(in_features=4096, out_features=4096, bias=True)\n",
            "    (4): ReLU(inplace=True)\n",
            "    (5): Dropout(p=0.5, inplace=False)\n",
            "    (6): Linear(in_features=4096, out_features=1000, bias=True)\n",
            "  )\n",
            ")\n"
          ],
          "name": "stdout"
        }
      ]
    },
    {
      "cell_type": "code",
      "metadata": {
        "id": "TR1nQEN039sm"
      },
      "source": [
        "\"\"\"Freezing all Layers of pretrained model\"\"\"\n",
        "for param in model.parameters():\n",
        "  param.requires_grad=False\n",
        "  "
      ],
      "execution_count": null,
      "outputs": []
    },
    {
      "cell_type": "code",
      "metadata": {
        "colab": {
          "base_uri": "https://localhost:8080/"
        },
        "id": "h9vwDBqp6Rpq",
        "outputId": "abab1091-84ac-47b6-c560-9cd3d296365b"
      },
      "source": [
        "num_ftrs=model.classifier[6].in_features\n",
        "print(num_ftrs)"
      ],
      "execution_count": null,
      "outputs": [
        {
          "output_type": "stream",
          "text": [
            "4096\n"
          ],
          "name": "stdout"
        }
      ]
    },
    {
      "cell_type": "code",
      "metadata": {
        "colab": {
          "base_uri": "https://localhost:8080/"
        },
        "id": "1rWb47D-6k1l",
        "outputId": "541bfe03-2842-496f-9454-26e8b665f9ef"
      },
      "source": [
        "\"\"\"Replacing last dense layer with coustom layers\"\"\"\n",
        "model.classifier[6]=nn.Sequential(nn.Linear(num_ftrs,1024),nn.ReLU(inplace=True),nn.Linear(1024,256),nn.ReLU(inplace=True),nn.Linear(256,64),nn.ReLU(inplace=True),nn.Linear(64,10))\n",
        "print(model)\n",
        "model.to(device)"
      ],
      "execution_count": null,
      "outputs": [
        {
          "output_type": "stream",
          "text": [
            "VGG(\n",
            "  (features): Sequential(\n",
            "    (0): Conv2d(3, 64, kernel_size=(3, 3), stride=(1, 1), padding=(1, 1))\n",
            "    (1): ReLU(inplace=True)\n",
            "    (2): Conv2d(64, 64, kernel_size=(3, 3), stride=(1, 1), padding=(1, 1))\n",
            "    (3): ReLU(inplace=True)\n",
            "    (4): MaxPool2d(kernel_size=2, stride=2, padding=0, dilation=1, ceil_mode=False)\n",
            "    (5): Conv2d(64, 128, kernel_size=(3, 3), stride=(1, 1), padding=(1, 1))\n",
            "    (6): ReLU(inplace=True)\n",
            "    (7): Conv2d(128, 128, kernel_size=(3, 3), stride=(1, 1), padding=(1, 1))\n",
            "    (8): ReLU(inplace=True)\n",
            "    (9): MaxPool2d(kernel_size=2, stride=2, padding=0, dilation=1, ceil_mode=False)\n",
            "    (10): Conv2d(128, 256, kernel_size=(3, 3), stride=(1, 1), padding=(1, 1))\n",
            "    (11): ReLU(inplace=True)\n",
            "    (12): Conv2d(256, 256, kernel_size=(3, 3), stride=(1, 1), padding=(1, 1))\n",
            "    (13): ReLU(inplace=True)\n",
            "    (14): Conv2d(256, 256, kernel_size=(3, 3), stride=(1, 1), padding=(1, 1))\n",
            "    (15): ReLU(inplace=True)\n",
            "    (16): MaxPool2d(kernel_size=2, stride=2, padding=0, dilation=1, ceil_mode=False)\n",
            "    (17): Conv2d(256, 512, kernel_size=(3, 3), stride=(1, 1), padding=(1, 1))\n",
            "    (18): ReLU(inplace=True)\n",
            "    (19): Conv2d(512, 512, kernel_size=(3, 3), stride=(1, 1), padding=(1, 1))\n",
            "    (20): ReLU(inplace=True)\n",
            "    (21): Conv2d(512, 512, kernel_size=(3, 3), stride=(1, 1), padding=(1, 1))\n",
            "    (22): ReLU(inplace=True)\n",
            "    (23): MaxPool2d(kernel_size=2, stride=2, padding=0, dilation=1, ceil_mode=False)\n",
            "    (24): Conv2d(512, 512, kernel_size=(3, 3), stride=(1, 1), padding=(1, 1))\n",
            "    (25): ReLU(inplace=True)\n",
            "    (26): Conv2d(512, 512, kernel_size=(3, 3), stride=(1, 1), padding=(1, 1))\n",
            "    (27): ReLU(inplace=True)\n",
            "    (28): Conv2d(512, 512, kernel_size=(3, 3), stride=(1, 1), padding=(1, 1))\n",
            "    (29): ReLU(inplace=True)\n",
            "    (30): MaxPool2d(kernel_size=2, stride=2, padding=0, dilation=1, ceil_mode=False)\n",
            "  )\n",
            "  (avgpool): AdaptiveAvgPool2d(output_size=(7, 7))\n",
            "  (classifier): Sequential(\n",
            "    (0): Linear(in_features=25088, out_features=4096, bias=True)\n",
            "    (1): ReLU(inplace=True)\n",
            "    (2): Dropout(p=0.5, inplace=False)\n",
            "    (3): Linear(in_features=4096, out_features=4096, bias=True)\n",
            "    (4): ReLU(inplace=True)\n",
            "    (5): Dropout(p=0.5, inplace=False)\n",
            "    (6): Sequential(\n",
            "      (0): Linear(in_features=4096, out_features=1024, bias=True)\n",
            "      (1): ReLU(inplace=True)\n",
            "      (2): Linear(in_features=1024, out_features=256, bias=True)\n",
            "      (3): ReLU(inplace=True)\n",
            "      (4): Linear(in_features=256, out_features=64, bias=True)\n",
            "      (5): ReLU(inplace=True)\n",
            "      (6): Linear(in_features=64, out_features=10, bias=True)\n",
            "    )\n",
            "  )\n",
            ")\n"
          ],
          "name": "stdout"
        },
        {
          "output_type": "execute_result",
          "data": {
            "text/plain": [
              "VGG(\n",
              "  (features): Sequential(\n",
              "    (0): Conv2d(3, 64, kernel_size=(3, 3), stride=(1, 1), padding=(1, 1))\n",
              "    (1): ReLU(inplace=True)\n",
              "    (2): Conv2d(64, 64, kernel_size=(3, 3), stride=(1, 1), padding=(1, 1))\n",
              "    (3): ReLU(inplace=True)\n",
              "    (4): MaxPool2d(kernel_size=2, stride=2, padding=0, dilation=1, ceil_mode=False)\n",
              "    (5): Conv2d(64, 128, kernel_size=(3, 3), stride=(1, 1), padding=(1, 1))\n",
              "    (6): ReLU(inplace=True)\n",
              "    (7): Conv2d(128, 128, kernel_size=(3, 3), stride=(1, 1), padding=(1, 1))\n",
              "    (8): ReLU(inplace=True)\n",
              "    (9): MaxPool2d(kernel_size=2, stride=2, padding=0, dilation=1, ceil_mode=False)\n",
              "    (10): Conv2d(128, 256, kernel_size=(3, 3), stride=(1, 1), padding=(1, 1))\n",
              "    (11): ReLU(inplace=True)\n",
              "    (12): Conv2d(256, 256, kernel_size=(3, 3), stride=(1, 1), padding=(1, 1))\n",
              "    (13): ReLU(inplace=True)\n",
              "    (14): Conv2d(256, 256, kernel_size=(3, 3), stride=(1, 1), padding=(1, 1))\n",
              "    (15): ReLU(inplace=True)\n",
              "    (16): MaxPool2d(kernel_size=2, stride=2, padding=0, dilation=1, ceil_mode=False)\n",
              "    (17): Conv2d(256, 512, kernel_size=(3, 3), stride=(1, 1), padding=(1, 1))\n",
              "    (18): ReLU(inplace=True)\n",
              "    (19): Conv2d(512, 512, kernel_size=(3, 3), stride=(1, 1), padding=(1, 1))\n",
              "    (20): ReLU(inplace=True)\n",
              "    (21): Conv2d(512, 512, kernel_size=(3, 3), stride=(1, 1), padding=(1, 1))\n",
              "    (22): ReLU(inplace=True)\n",
              "    (23): MaxPool2d(kernel_size=2, stride=2, padding=0, dilation=1, ceil_mode=False)\n",
              "    (24): Conv2d(512, 512, kernel_size=(3, 3), stride=(1, 1), padding=(1, 1))\n",
              "    (25): ReLU(inplace=True)\n",
              "    (26): Conv2d(512, 512, kernel_size=(3, 3), stride=(1, 1), padding=(1, 1))\n",
              "    (27): ReLU(inplace=True)\n",
              "    (28): Conv2d(512, 512, kernel_size=(3, 3), stride=(1, 1), padding=(1, 1))\n",
              "    (29): ReLU(inplace=True)\n",
              "    (30): MaxPool2d(kernel_size=2, stride=2, padding=0, dilation=1, ceil_mode=False)\n",
              "  )\n",
              "  (avgpool): AdaptiveAvgPool2d(output_size=(7, 7))\n",
              "  (classifier): Sequential(\n",
              "    (0): Linear(in_features=25088, out_features=4096, bias=True)\n",
              "    (1): ReLU(inplace=True)\n",
              "    (2): Dropout(p=0.5, inplace=False)\n",
              "    (3): Linear(in_features=4096, out_features=4096, bias=True)\n",
              "    (4): ReLU(inplace=True)\n",
              "    (5): Dropout(p=0.5, inplace=False)\n",
              "    (6): Sequential(\n",
              "      (0): Linear(in_features=4096, out_features=1024, bias=True)\n",
              "      (1): ReLU(inplace=True)\n",
              "      (2): Linear(in_features=1024, out_features=256, bias=True)\n",
              "      (3): ReLU(inplace=True)\n",
              "      (4): Linear(in_features=256, out_features=64, bias=True)\n",
              "      (5): ReLU(inplace=True)\n",
              "      (6): Linear(in_features=64, out_features=10, bias=True)\n",
              "    )\n",
              "  )\n",
              ")"
            ]
          },
          "metadata": {
            "tags": []
          },
          "execution_count": 79
        }
      ]
    },
    {
      "cell_type": "code",
      "metadata": {
        "colab": {
          "base_uri": "https://localhost:8080/"
        },
        "id": "PEGglLQTBZUd",
        "outputId": "a6cc88ce-9070-429e-85d2-9ebed01d0c89"
      },
      "source": [
        "total_params = sum(p.numel() for p in model.parameters())\n",
        "print(f'{total_params:,} total parameters.')\n",
        "total_trainable_params = sum(p.numel() for p in model.parameters() if p.requires_grad)\n",
        "print(f'{total_trainable_params:,} training parameters.')"
      ],
      "execution_count": null,
      "outputs": [
        {
          "output_type": "stream",
          "text": [
            "138,735,370 total parameters.\n",
            "4,474,826 training parameters.\n"
          ],
          "name": "stdout"
        }
      ]
    },
    {
      "cell_type": "code",
      "metadata": {
        "id": "YKwHJlab8sXj"
      },
      "source": [
        "# optimizer\n",
        "optimizer = optim.SGD(model.classifier.parameters(), lr=0.1,momentum=0.9)\n",
        "# loss function\n",
        "criterion = nn.CrossEntropyLoss()\n"
      ],
      "execution_count": null,
      "outputs": []
    },
    {
      "cell_type": "code",
      "metadata": {
        "id": "eb2W3YmS62kB"
      },
      "source": [
        "train_loss= []\n",
        "val_loss= []\n",
        "for epoch in range(20):\n",
        "    print(epoch)\n",
        "    model.train()\n",
        "    train_running_loss = 0.0\n",
        "    for i, data in enumerate(train_dataloader):\n",
        "        data, target = data[0].to(device), data[1].to(device)\n",
        "        optimizer.zero_grad()\n",
        "        output = model(data)\n",
        "        loss = criterion(output, target)\n",
        "        train_running_loss += loss.item()\n",
        "        loss.backward()\n",
        "        optimizer.step()\n",
        "    train_e_loss = train_running_loss/len(train_dataloader)\n",
        "    model.eval()\n",
        "    val_running_loss = 0.0\n",
        "    for i, data in enumerate(val_dataloader):\n",
        "        data, target = data[0].to(device), data[1].to(device)\n",
        "        output = model(data)\n",
        "        loss = criterion(output, target)\n",
        "        val_running_loss += loss.item()\n",
        "\n",
        "    val_e_loss = val_running_loss/len(test_dataloader)\n",
        "    #print(val_e_loss,train_e_loss)\n",
        "    train_loss.append(train_e_loss)\n",
        "    val_loss.append(val_e_loss)"
      ],
      "execution_count": null,
      "outputs": []
    },
    {
      "cell_type": "code",
      "metadata": {
        "id": "X8NjhB-AjboM"
      },
      "source": [
        "import numpy as np\n",
        "model.eval()\n",
        "y_pred=[]\n",
        "y_test=[]\n",
        "for i, data in enumerate(test_dataloader):\n",
        "  data, target = data[0].to(device), data[1].to(device)\n",
        "  output = model(data)\n",
        "  _, preds = torch.max(output.data, 1)\n",
        "  for i in range(len(preds)):\n",
        "    y_pred.append(preds[i].item())\n",
        "    y_test.append(target[i].item())\n",
        "  \n",
        " "
      ],
      "execution_count": null,
      "outputs": []
    },
    {
      "cell_type": "code",
      "metadata": {
        "colab": {
          "base_uri": "https://localhost:8080/"
        },
        "id": "pSKMkfDCtTRj",
        "outputId": "22245407-4d74-4259-b64e-f5ca91589bc9"
      },
      "source": [
        "print(y_pred)\n",
        "print(y_test)"
      ],
      "execution_count": null,
      "outputs": [
        {
          "output_type": "stream",
          "text": [
            "[1, 8, 8, 9, 6, 6, 3, 6, 3, 9, 0, 9, 7, 7, 9, 2, 5, 7, 8, 6, 3, 0, 4, 9, 4, 4, 7, 2, 1, 6, 6, 6, 4, 3, 9, 6, 7, 9, 9, 5, 6, 6, 7, 3, 0, 9, 3, 9, 4, 6, 9, 8, 8, 6, 8, 8, 7, 7, 5, 6, 7, 3, 6, 3, 6, 6, 1, 8, 4, 5, 8, 6, 8, 8, 9, 0, 9, 5, 5, 8, 8, 1, 1, 4, 5, 7, 3, 0, 8, 9, 0, 3, 8, 6, 4, 6, 6, 2, 0, 7, 7, 7, 5, 3, 9, 1, 3, 6, 8, 7, 4, 0, 2, 2, 1, 3, 0, 1, 6, 5, 8, 3, 1, 2, 8, 2, 8, 3, 8, 0, 6, 1, 8, 9, 1, 2, 9, 7, 4, 8, 4, 5, 6, 3, 8, 8, 6, 6, 3, 7, 8, 6, 6, 9, 0, 6, 5, 9, 3, 4, 0, 1, 3, 4, 0, 4, 8, 4, 5, 4, 1, 7, 8, 8, 9, 9, 6, 7, 3, 8, 0, 5, 0, 4, 0, 8, 6, 3, 2, 0, 6, 1, 7, 8, 6, 2, 8, 0, 7, 8, 5, 8, 8, 9, 1, 3, 8, 2, 7, 9, 5, 7, 5, 9, 8, 0, 7, 9, 8, 2, 7, 3, 9, 4, 3, 9, 8, 2, 3, 4, 5, 1, 5, 8, 8, 0, 4, 9, 5, 5, 1, 3, 8, 9, 0, 3, 8, 9, 6, 6, 5, 3, 9, 1, 4, 8, 3, 0, 8, 9, 8, 9, 2, 3, 0, 8, 6, 4, 7, 0, 3, 7, 6, 3, 8, 3, 0, 6, 4, 7, 1, 0, 6, 1, 0, 9, 8, 8, 7, 9, 3, 0, 6, 9, 3, 4, 6, 0, 0, 6, 6, 6, 7, 2, 6, 8, 8, 4, 9, 2, 8, 6, 8, 0, 4, 6, 4, 7, 6, 5, 3, 5, 7, 3, 6, 1, 7, 5, 4, 6, 1, 8, 5, 6, 6, 9, 3, 8, 0, 1, 6, 6, 2, 5, 8, 3, 4, 6, 1, 9, 9, 1, 8, 2, 4, 6, 2, 7, 8, 0, 9, 5, 9, 1, 9, 7, 8, 3, 8, 1, 6, 7, 9, 4, 2, 7, 0, 9, 8, 6, 6, 9, 0, 1, 2, 0, 7, 2, 3, 5, 1, 2, 6, 5, 1, 6, 4, 1, 0, 5, 9, 1, 7, 8, 8, 6, 0, 9, 8, 4, 7, 9, 0, 4, 1, 8, 0, 7, 4, 2, 2, 5, 2, 0, 2, 1, 3, 2, 9, 3, 4, 3, 3, 7, 7, 7, 6, 5, 5, 1, 1, 4, 9, 9, 5, 8, 5, 0, 2, 0, 4, 8, 7, 3, 9, 4, 4, 6, 3, 8, 5, 6, 1, 7, 3, 4, 4, 6, 7, 8, 3, 7, 8, 8, 3, 7, 6, 0, 5, 4, 9, 6, 8, 3, 5, 8, 9, 9, 6, 0, 1, 9, 8, 1, 1, 8, 8, 5, 2, 0, 4, 6, 5, 4, 8, 4, 7, 9, 8, 4, 5, 6, 6, 9, 3, 1, 8, 9, 9, 8, 5, 0, 0, 7, 0, 5, 9, 0, 9, 6, 9, 8, 9, 5, 6, 6, 6, 6, 8, 9, 9, 7, 6, 7, 5, 9, 1, 6, 2, 3, 2, 3, 1, 5, 9, 4, 6, 4, 2, 2, 0, 7, 6, 4, 6, 5, 9, 3, 9, 6, 6, 7, 1, 5, 6, 6, 8, 8, 7, 5, 6, 0, 8, 4, 0, 9, 6, 4, 8, 9, 6, 1, 6, 6, 1, 4, 7, 9, 5, 3, 9, 5, 0, 0, 9, 6, 4, 7, 3, 9, 6, 9, 0, 8, 5, 8, 6, 3, 2, 1, 7, 7, 1, 7, 7, 1, 9, 6, 4, 9, 2, 2, 5, 8, 4, 6, 8, 6, 0, 7, 3, 4, 0, 7, 1, 9, 3, 4, 4, 5, 6, 9, 5, 6, 9, 2, 1, 6, 4, 8, 9, 4, 7, 6, 7, 8, 9, 0, 1, 5, 6, 7, 6, 3, 0, 5, 3, 1, 0, 2, 1, 6, 7, 9, 9, 6, 4, 6, 5, 2, 4, 2, 0, 7, 8, 3, 8, 3, 7, 5, 7, 2, 2, 8, 6, 4, 2, 9, 0, 8, 6, 8, 8, 7, 4, 3, 3, 3, 4, 9, 4, 8, 8, 1, 8, 8, 9, 1, 5, 5, 7, 0, 7, 9, 1, 3, 9, 7, 1, 7, 1, 7, 0, 7, 3, 7, 4, 6, 2, 5, 9, 0, 8, 1, 2, 2, 6, 8, 2, 6, 7, 6, 6, 0, 1, 2, 0, 9, 5, 8, 6, 1, 6, 2, 0, 6, 2, 6, 0, 6, 9, 1, 4, 6, 4, 8, 3, 8, 4, 8, 4, 0, 5, 7, 4, 7, 1, 7, 7, 6, 7, 1, 0, 7, 2, 4, 8, 6, 7, 8, 0, 3, 7, 2, 9, 8, 9, 4, 1, 2, 6, 2, 8, 1, 7, 7, 7, 6, 7, 0, 1, 3, 2, 3, 4, 4, 9, 4, 9, 2, 7, 8, 7, 2, 2, 2, 2, 0, 2, 4, 7, 1, 8, 1, 0, 2, 7, 0, 7, 8, 4, 6, 3, 3, 0, 1, 6, 4, 0, 1, 3, 1, 4, 2, 3, 0, 4, 2, 3, 7, 8, 4, 0, 8, 9, 8, 8, 8, 1, 4, 4, 6, 7, 0, 1, 1, 3, 7, 7, 5, 6, 6, 6, 5, 5, 8, 8, 6, 8, 8, 3, 3, 0, 4, 0, 1, 2, 8, 8, 4, 6, 9, 9, 1, 5, 5, 8, 6, 0, 8, 4, 4, 3, 2, 7, 2, 2, 7, 9, 8, 9, 9, 7, 2, 0, 1, 0, 9, 8, 8, 4, 9, 6, 8, 4, 7, 1, 6, 7, 8, 8, 1, 9, 6, 6, 6, 3, 8, 1, 8, 9, 4, 6, 1, 2, 0, 6, 8, 1, 9, 2, 8, 4, 4, 7, 8, 3, 8, 6, 0, 9, 5, 8, 5, 6, 3, 8, 9, 3, 8, 5, 8, 1, 4, 8, 1, 1, 8, 9, 6, 0, 8, 6, 9, 3, 4, 9, 4, 0, 6, 1, 1, 0, 0, 2, 7, 4, 4, 6, 6, 3, 5, 6, 3, 4, 2, 0, 7, 2, 6, 7, 7, 9, 2, 8, 5, 2, 8, 1, 8, 4, 2, 0, 3, 1, 5, 6, 7, 7, 1, 9, 1, 7, 4, 9, 3, 1, 0, 9, 6, 3, 6, 8, 7, 8, 7, 0, 0, 0, 6, 4, 6, 9, 2, 2, 4, 7, 6, 3, 4, 8, 8, 3, 8, 6, 6, 7, 9, 1, 0, 5, 8, 8, 8, 1, 3, 9, 7, 5, 0, 2, 8, 2, 8, 9, 1, 3, 5, 7, 7, 2, 3, 8, 3, 4, 6, 0, 8, 7, 6, 9, 9, 6, 6, 1, 3, 9, 1, 7, 8, 6, 1, 8, 6, 1, 6, 2, 8, 2, 7, 3, 2, 8, 8, 6, 9, 1, 8, 9, 8, 8, 0, 4, 2, 8, 0, 3, 8, 3, 7, 7, 7, 2, 9, 8, 9, 1, 1, 6, 3, 3, 6, 1, 0, 6, 1, 2, 8, 0, 2, 1, 9, 6, 5, 0, 6, 2, 0, 7, 9, 8, 7, 2, 0, 6, 8, 1, 8, 3, 7, 3, 6, 1, 8, 5, 7, 8, 3, 8, 5, 9, 9, 9, 8, 4, 6, 6, 5, 4, 1, 3, 9, 9, 4, 1, 5, 4, 0, 1, 5, 7, 8, 1, 8, 3, 3, 3, 7, 4, 4, 1, 1, 7, 8, 2, 4, 9, 2, 1, 8, 0, 8, 1, 8, 8, 9, 0, 4, 6, 5, 9, 8, 4, 6, 3, 5, 6, 6, 0, 8, 3, 8, 9, 5, 1, 9, 8, 9, 1, 6, 5, 9, 7, 4, 8, 0, 7, 0, 9, 9, 4, 1, 6, 4, 0, 9, 1, 0, 5, 1, 0, 8, 6, 1, 9, 8, 6, 9, 5, 0, 7, 2, 0, 8, 6, 6, 6, 6, 3, 7, 6, 8, 1, 4, 3, 1, 4, 5, 6, 3, 1, 4, 7, 0, 9, 4, 4, 8, 3, 8, 6, 7, 2, 3, 1, 2, 6, 9, 8, 9, 7, 1, 5, 1, 4, 0, 8, 2, 3, 8, 9, 1, 9, 3, 0, 4, 9, 3, 1, 1, 4, 6, 0, 8, 1, 3, 3, 9, 7, 7, 6, 4, 2, 3, 4, 3, 1, 0, 8, 0, 5, 4, 7, 6, 1, 1, 9, 8, 7, 4, 1, 9, 1, 1, 1, 7, 3, 9, 2, 8, 7, 6, 8, 4, 9, 4, 7, 1, 7, 8, 8, 6, 9, 5, 8, 1, 6, 1, 5, 9, 0, 4, 6, 6, 1, 4, 4, 8, 4, 6, 2, 6, 9, 6, 8, 6, 7, 1, 8, 8, 6, 9, 4, 6, 8, 9, 7, 1, 5, 3, 2, 4, 7, 7, 7, 9, 7, 7, 9, 1, 1, 2, 8, 1, 4, 2, 7, 9, 8, 6, 8, 6, 1, 1, 3, 0, 2, 8, 5, 8, 7, 6, 8, 5, 8, 6, 7, 0, 8, 7, 4, 1, 8, 6, 0, 5, 4, 1, 5, 6, 9, 4, 4, 4, 3, 0, 4, 3, 2, 5, 9, 7, 0, 7, 7, 7, 3, 4, 8, 2, 8, 4, 5, 5, 4, 8, 6, 0, 0, 7, 6, 6, 4, 4, 4, 0, 8, 8, 4, 5, 7, 6, 6, 0, 3, 6, 2, 5, 9, 7, 2, 5, 5, 0, 9, 4, 4, 3, 6, 8, 7, 8, 9, 1, 7, 7, 8, 0, 5, 6, 4, 1, 4, 5, 5, 3, 0, 3, 5, 5, 8, 9, 7, 3, 1, 9, 3, 3, 2, 4, 3, 6, 6, 8, 1, 2, 7, 8, 7, 6, 5, 1, 4, 7, 4, 8, 8, 9, 7, 9, 0, 1, 8, 8, 6, 7, 3, 4, 4, 9, 2, 6, 5, 9, 6, 4, 0, 7, 8, 6, 5, 0, 0, 9, 9, 8, 2, 5, 7, 8, 3, 6, 5, 6, 0, 6, 6, 6, 9, 6, 6, 8, 6, 2, 4, 7, 8, 1, 2, 7, 6, 6, 7, 8, 1, 8, 0, 1, 6, 9, 2, 0, 1, 9, 0, 8, 7, 9, 4, 7, 5, 7, 9, 5, 9, 0, 1, 9, 7, 6, 6, 1, 0, 9, 0, 6, 1, 7, 4, 8, 4, 8, 6, 1, 6, 4, 8, 1, 0, 8, 4, 3, 9, 3, 9, 0, 5, 3, 5, 4, 1, 3, 8, 1, 0, 7, 4, 1, 0, 2, 8, 1, 5, 6, 7, 0, 4, 4, 2, 5, 4, 1, 4, 2, 6, 4, 6, 2, 0, 1, 7, 6, 1, 5, 5, 7, 0, 7, 8, 2, 2, 6, 5, 8, 1, 0, 1, 3, 5, 0, 7, 6, 9, 2, 4, 6, 8, 1, 6, 4, 0, 4, 2, 5, 5, 8, 1, 5, 1, 8, 1, 1, 9, 1, 1, 9, 7, 6, 3, 0, 9, 5, 7, 7, 9, 2, 8, 4, 7, 1, 7, 8, 6, 8, 7, 0, 4, 1, 5, 7, 8, 9, 7, 8, 9, 7, 2, 7, 3, 7, 9, 0, 9, 9, 7, 6, 8, 5, 0, 2, 9, 3, 4, 9, 7, 7, 8, 6, 2, 0, 5, 3, 5, 6, 8, 0, 2, 3, 7, 8, 1, 8, 1, 4, 6, 6, 3, 3, 2, 8, 6, 8, 2, 9, 3, 0, 9, 8, 1, 7, 8, 5, 0, 0, 1, 6, 3, 1, 3, 6, 4, 6, 0, 0, 9, 9, 9, 8, 2, 6, 2, 0, 6, 1, 5, 1, 8, 1, 9, 4, 9, 6, 0, 5, 7, 4, 1, 1, 0, 7, 8, 7, 2, 8, 2, 7, 8, 3, 5, 0, 3, 7, 4, 4, 2, 7, 7, 9, 6, 8, 7, 7, 6, 0, 3, 4, 7, 7, 0, 9, 1, 4, 6, 0, 6, 4, 3, 5, 6, 6, 9, 3, 6, 8, 7, 6, 4, 9, 5, 4, 7, 1, 6, 6, 1, 2, 5, 9, 0, 5, 8, 5, 6, 5, 7, 5, 7, 8, 9, 1, 7, 4, 1, 6, 8, 6, 6, 6, 6, 9, 9, 8, 5, 3, 6, 4, 3, 9, 2, 6, 6, 8, 4, 4, 4, 6, 5, 4, 6, 0, 0, 3, 1, 4, 5, 1, 3, 5, 8, 3, 8, 5, 8, 6, 5, 5, 5, 5, 0, 0, 5, 3, 7, 1, 8, 4, 4, 9, 3, 4, 2, 9, 6, 0, 2, 4, 3, 8, 2, 0, 1, 6, 6, 2, 7, 6, 1, 0, 7, 7, 2, 2, 1, 6, 4, 0, 4, 2, 0, 8, 7, 6, 0, 9, 6, 6, 5, 3, 4, 0, 0, 1, 1, 8, 2, 5, 9, 4, 8, 6, 4, 2, 0, 2, 0, 0, 1, 2, 6, 9, 0, 7, 2, 3, 8, 8, 9, 3, 6, 8, 9, 5, 8, 9, 2, 7, 2, 7, 9, 6, 1, 5, 4, 8, 5, 9, 8, 3, 1, 9, 0, 5, 5, 9, 1, 4, 2, 5, 5, 8, 2, 2, 2, 0, 9, 7, 1, 9, 9, 1, 4, 8, 4, 4, 9, 8, 9, 6, 0, 2, 9, 4, 4, 0, 8, 6, 8, 6, 8, 6, 0, 5, 9, 6, 9, 3, 1, 3, 4, 4, 0, 5, 3, 6, 4, 8, 5, 8, 4, 5, 1, 2, 6, 8, 1, 7, 6, 8, 4, 4, 3, 4, 3, 3, 7, 2, 5, 6, 9, 7, 1, 0, 4, 3, 1, 8, 9, 2, 8, 0, 7, 3, 5, 2, 8, 1, 4, 0, 1, 5, 4, 3, 4, 6, 1, 8, 8, 6, 3, 3, 4, 9, 7, 6, 1, 6, 8, 5, 1, 1, 3, 5, 1, 4, 8, 5, 7, 2, 4, 1, 9, 5, 6, 1, 8, 8, 9, 6, 0, 3, 0, 2, 7, 7, 6, 9, 3, 9, 1, 6, 4, 2, 4, 4, 2, 8, 5, 5, 2, 7, 3, 8, 0, 8, 8, 5, 7, 8, 7, 4, 0, 4, 2, 6, 1, 2, 1, 7, 6, 4, 4, 0, 5, 6, 0, 1, 6, 8, 4, 5, 0, 1, 4, 6, 8, 0, 8, 1, 5, 4, 7, 0, 6, 2, 6, 6, 9, 4, 0, 1, 0, 7, 7, 0, 8, 8, 9, 4, 1, 0, 8, 5, 9, 0, 5, 5, 8, 8, 0, 6, 9, 2, 7, 0, 6, 0, 9, 6, 0, 8, 0, 5, 9, 4, 7, 6, 6, 9, 2, 4, 3, 4, 6, 6, 5, 3, 4, 7, 8, 6, 8, 1, 4, 4, 8, 1, 0, 7, 6, 8, 7, 8, 8, 9, 8, 6, 6, 8, 9, 1, 1, 4, 6, 0, 2, 6, 8, 7, 2, 4, 1, 1, 6, 4, 1, 6, 0, 6, 8, 0, 9, 0, 1, 8, 6, 9, 8, 9, 0, 8, 7, 8, 3, 0, 6, 6, 8, 8, 6, 7, 8, 2, 1, 4, 8, 6, 7, 7, 6, 3, 8, 0, 8, 1, 7, 8, 1, 8, 9, 6, 6, 4, 8, 8, 1, 8, 7, 0, 6, 4, 4, 8, 2, 2, 9, 4, 3, 9, 7, 4, 1, 9, 8, 6, 5, 1, 4, 8, 9, 6, 8, 3, 1, 9, 9, 0, 5, 1, 5, 8, 7, 1, 0, 5, 2, 4, 8, 4, 0, 6, 4, 2, 9, 8, 7, 0, 6, 7, 4, 7, 1, 6, 4, 2, 2, 3, 6, 7, 9, 0, 0, 3, 6, 3, 1, 7, 2, 4, 9, 8, 5, 5, 5, 7, 6, 5, 4, 0, 4, 0, 9, 8, 4, 8, 1, 4, 3, 3, 3, 8, 8, 1, 6, 0, 8, 3, 5, 1, 2, 7, 2, 6, 3, 6, 0, 7, 8, 3, 7, 4, 8, 8, 0, 8, 1, 2, 7, 7, 2, 6, 6, 4, 4, 3, 1, 6, 1, 6, 4, 6, 7, 6, 7, 3, 3, 8, 3, 9, 4, 6, 9, 5, 7, 4, 5, 4, 9, 7, 7, 2, 3, 5, 6, 9, 4, 1, 6, 1, 0, 6, 9, 6, 0, 6, 0, 8, 4, 7, 0, 9, 0, 8, 7, 5, 0, 4, 4, 1, 5, 3, 2, 2, 8, 9, 1, 4, 2, 0, 5, 4, 1, 8, 6, 1, 8, 0, 3, 6, 4, 6, 7, 5, 1, 8, 9, 0, 5, 0, 3, 4, 5, 8, 6, 0, 0, 8, 5, 9, 2, 2, 4, 5, 7, 7, 7, 3, 9, 8, 6, 4, 8, 6, 2, 9, 9, 8, 2, 3, 1, 0, 5, 2, 5, 5, 1, 7, 9, 1, 1, 3, 4, 7, 2, 4, 1, 9, 4, 3, 5, 5, 2, 7, 6, 8, 3, 3, 4, 5, 4, 0, 7, 4, 7, 4, 0, 4, 4, 3, 2, 9, 8, 7, 0, 9, 2, 1, 0, 2, 5, 8, 6, 5, 6, 5, 7, 4, 2, 9, 6, 7, 7, 2, 0, 1, 9, 1, 7, 9, 3, 1, 6, 0, 4, 3, 7, 6, 4, 5, 2, 6, 6, 7, 5, 0, 4, 7, 3, 8, 1, 2, 7, 5, 7, 9, 6, 4, 1, 8, 6, 6, 5, 4, 7, 9, 1, 5, 2, 0, 4, 1, 5, 5, 6, 6, 5, 6, 9, 5, 1, 0, 8, 3, 1, 9, 9, 9, 9, 8, 4, 8, 4, 8, 7, 2, 6, 5, 6, 8, 1, 3, 5, 3, 7, 8, 6, 3, 8, 6, 1, 9, 4, 2, 9, 5, 9, 4, 9, 9, 4, 0, 8, 1, 4, 0, 6, 5, 1, 4, 2, 8, 2, 8, 3, 5, 1, 0, 9, 8, 1, 1, 3, 9, 9, 7, 6, 8, 7, 3, 2, 2, 0, 9, 3, 1, 9, 7, 9, 1, 9, 3, 1, 0, 3, 8, 9, 2, 0, 8, 8, 0, 0, 4, 0, 3, 8, 7, 0, 7, 0, 5, 5, 4, 3, 9, 9, 4, 7, 5, 2, 0, 8, 2, 4, 5, 2, 7, 7, 1, 5, 6, 4, 3, 8, 0, 8, 4, 8, 5, 5, 6, 5, 1, 7, 0, 4, 0, 5, 6, 8, 7, 6, 7, 1, 5, 7, 6, 4, 5, 5, 5, 1, 7, 7, 8, 0, 4, 7, 1, 1, 1, 6, 5, 6, 1, 2, 3, 0, 8, 3, 9, 7, 4, 1, 6, 7, 5, 8, 5, 0, 3, 0, 8, 2, 3, 4, 1, 4, 6, 5, 1, 7, 4, 9, 0, 1, 3, 9, 3, 0, 7, 2, 4, 1, 1, 1, 3, 6, 1, 8, 8, 1, 9, 7, 5, 6, 6, 9, 0, 6, 8, 4, 0, 5, 7, 0, 6, 7, 7, 4, 9, 0, 7, 8, 5, 7, 1, 8, 3, 7, 7, 5, 0, 0, 6, 0, 3, 7, 0, 6, 4, 6, 9, 1, 8, 6, 3, 9, 4, 9, 5, 3, 7, 5, 9, 7, 5, 4, 1, 8, 8, 8, 9, 5, 3, 9, 3, 6, 8, 0, 1, 1, 1, 1, 1, 1, 8, 9, 9, 8, 2, 6, 8, 1, 9, 2, 1, 9, 2, 8, 8, 1, 9, 9, 9, 2, 1, 7, 0, 5, 3, 6, 1, 8, 3, 0, 6, 0, 7, 2, 8, 7, 0, 6, 2, 5, 5, 7, 6, 6, 6, 5, 3, 9, 4, 3, 8, 0, 2, 9, 6, 9, 8, 6, 9, 5, 1, 9, 7, 9, 1, 9, 5, 7, 7, 6, 9, 8, 4, 3, 1, 5, 6, 2, 8, 3, 3, 6, 9, 6, 1, 6, 7, 4, 8, 7, 7, 1, 3, 0, 3, 2, 9, 4, 1, 3, 5, 4, 5, 3, 5, 7, 1, 6, 8, 8, 8, 7, 3, 5, 7, 8, 5, 7, 8, 9, 4, 7, 7, 0, 8, 3, 0, 9, 5, 4, 1, 6, 7, 9, 8, 5, 5, 6, 1, 0, 1, 4, 5, 3, 6, 4, 4, 0, 8, 2, 9, 4, 9, 7, 0, 6, 1, 9, 2, 9, 1, 7, 7, 8, 2, 2, 0, 2, 5, 3, 6, 4, 4, 6, 3, 5, 8, 7, 2, 5, 8, 9, 5, 0, 5, 6, 1, 8, 3, 9, 7, 1, 9, 1, 6, 8, 1, 7, 3, 2, 6, 4, 8, 9, 4, 4, 5, 1, 6, 4, 9, 0, 7, 9, 3, 1, 2, 1, 6, 6, 4, 9, 7, 7, 3, 8, 3, 4, 8, 7, 8, 2, 6, 6, 1, 7, 3, 1, 5, 1, 9, 0, 1, 0, 0, 0, 2, 6, 8, 5, 7, 6, 1, 6, 9, 5, 5, 0, 8, 3, 3, 9, 7, 1, 7, 4, 0, 7, 8, 5, 4, 0, 6, 3, 0, 8, 4, 5, 9, 5, 6, 8, 7, 8, 5, 4, 0, 6, 2, 8, 0, 3, 4, 6, 1, 1, 8, 8, 7, 0, 5, 5, 2, 5, 9, 1, 7, 2, 1, 9, 6, 5, 0, 6, 3, 7, 1, 9, 2, 4, 0, 3, 4, 4, 3, 2, 7, 7, 0, 4, 1, 6, 5, 1, 5, 8, 3, 9, 0, 3, 6, 7, 0, 1, 0, 1, 1, 8, 4, 9, 7, 6, 2, 3, 5, 6, 4, 4, 4, 1, 8, 9, 1, 3, 8, 1, 8, 2, 6, 4, 4, 4, 1, 9, 6, 6, 9, 5, 2, 0, 3, 0, 2, 4, 4, 6, 6, 9, 4, 1, 4, 3, 9, 0, 9, 6, 0, 8, 1, 1, 5, 6, 1, 3, 4, 8, 5, 8, 6, 3, 1, 7, 6, 0, 6, 6, 3, 3, 2, 0, 3, 7, 9, 3, 1, 4, 4, 6, 1, 3, 8, 8, 0, 6, 4, 7, 6, 7, 5, 5, 2, 4, 6, 2, 7, 3, 3, 5, 6, 2, 6, 6, 3, 8, 9, 3, 1, 9, 3, 3, 2, 7, 3, 0, 1, 0, 0, 3, 5, 4, 8, 9, 1, 3, 7, 8, 0, 9, 3, 1, 4, 3, 3, 9, 1, 6, 8, 1, 8, 9, 1, 3, 9, 7, 3, 0, 0, 2, 8, 1, 8, 2, 4, 4, 6, 0, 1, 6, 1, 6, 7, 5, 3, 4, 5, 9, 4, 0, 2, 7, 8, 0, 7, 1, 0, 8, 4, 4, 8, 9, 2, 8, 9, 5, 7, 7, 1, 4, 6, 2, 8, 6, 7, 8, 9, 3, 1, 8, 6, 6, 9, 4, 6, 2, 5, 2, 1, 2, 5, 5, 1, 6, 6, 8, 5, 0, 6, 7, 1, 6, 2, 6, 9, 6, 8, 1, 9, 1, 5, 5, 5, 3, 2, 9, 7, 0, 0, 9, 8, 4, 1, 7, 9, 7, 8, 4, 7, 3, 6, 0, 8, 7, 0, 6, 6, 7, 8, 1, 8, 1, 8, 1, 4, 1, 9, 9, 0, 1, 5, 2, 6, 8, 7, 7, 4, 6, 6, 9, 3, 5, 6, 7, 4, 2, 1, 4, 2, 0, 2, 0, 7, 3, 6, 5, 3, 1, 0, 7, 8, 5, 9, 7, 8, 6, 4, 3, 7, 9, 8, 1, 4, 4, 8, 9, 9, 0, 5, 4, 0, 7, 8, 1, 4, 7, 8, 5, 3, 7, 9, 1, 3, 7, 9, 1, 5, 6, 9, 8, 4, 2, 0, 9, 8, 8, 6, 9, 4, 2, 3, 8, 1, 9, 8, 0, 3, 7, 6, 6, 2, 3, 7, 0, 3, 2, 8, 8, 8, 7, 9, 6, 4, 7, 7, 6, 7, 6, 7, 9, 7, 3, 6, 8, 2, 6, 6, 7, 9, 3, 9, 7, 1, 7, 0, 9, 4, 3, 2, 1, 8, 1, 2, 5, 2, 2, 3, 4, 9, 8, 7, 4, 6, 9, 2, 6, 2, 1, 1, 2, 3, 6, 8, 9, 0, 5, 5, 1, 5, 6, 1, 2, 2, 6, 8, 8, 9, 6, 6, 5, 0, 7, 3, 8, 4, 1, 1, 8, 1, 4, 2, 5, 0, 3, 8, 9, 3, 2, 8, 7, 9, 8, 8, 4, 4, 8, 2, 9, 0, 7, 8, 8, 7, 1, 6, 6, 9, 1, 3, 9, 7, 6, 7, 7, 8, 5, 2, 2, 2, 0, 6, 8, 9, 6, 6, 6, 9, 4, 6, 4, 8, 0, 5, 9, 6, 8, 2, 7, 2, 3, 8, 8, 1, 6, 5, 9, 7, 8, 9, 6, 3, 8, 1, 1, 4, 8, 3, 1, 4, 7, 6, 2, 2, 0, 0, 8, 7, 8, 7, 7, 3, 6, 7, 7, 4, 7, 4, 3, 3, 6, 4, 0, 8, 0, 7, 1, 9, 3, 5, 8, 7, 7, 4, 6, 1, 8, 5, 9, 1, 5, 6, 2, 2, 7, 5, 5, 8, 1, 8, 6, 8, 7, 8, 8, 5, 7, 5, 6, 8, 7, 3, 5, 8, 8, 3, 1, 4, 7, 2, 0, 8, 0, 7, 0, 7, 6, 5, 2, 6, 5, 6, 4, 8, 2, 8, 0, 6, 8, 5, 6, 0, 8, 8, 0, 6, 1, 9, 6, 1, 2, 4, 9, 8, 0, 4, 4, 7, 3, 8, 8, 5, 1, 8, 2, 2, 3, 9, 4, 4, 6, 0, 7, 3, 5, 2, 4, 4, 5, 6, 0, 6, 3, 8, 6, 0, 9, 3, 1, 0, 5, 2, 3, 7, 3, 6, 7, 6, 0, 0, 5, 7, 2, 7, 7, 0, 6, 1, 7, 9, 9, 0, 0, 6, 8, 4, 0, 7, 4, 1, 3, 4, 6, 4, 9, 9, 3, 7, 3, 7, 8, 4, 2, 8, 0, 3, 9, 8, 8, 0, 8, 3, 8, 5, 8, 6, 9, 8, 3, 2, 5, 9, 2, 9, 1, 1, 3, 6, 7, 7, 0, 6, 7, 1, 8, 7, 6, 6, 6, 8, 9, 9, 8, 9, 8, 6, 8, 5, 8, 9, 4, 6, 4, 6, 3, 9, 4, 4, 0, 1, 7, 6, 1, 4, 3, 3, 1, 6, 1, 8, 7, 6, 9, 3, 0, 9, 1, 7, 3, 2, 1, 6, 0, 0, 8, 9, 9, 2, 8, 4, 5, 7, 6, 0, 3, 5, 0, 5, 7, 7, 5, 0, 1, 2, 8, 8, 1, 2, 8, 5, 4, 5, 9, 6, 7, 9, 0, 3, 9, 3, 4, 3, 7, 8, 9, 1, 9, 7, 8, 1, 3, 7, 7, 6, 3, 8, 8, 8, 4, 8, 7, 6, 7, 0, 0, 6, 3, 2, 6, 1, 4, 9, 9, 8, 6, 9, 3, 3, 8, 1, 1, 8, 0, 3, 4, 4, 1, 1, 9, 7, 7, 4, 6, 8, 6, 0, 2, 8, 5, 3, 5, 1, 5, 7, 1, 8, 6, 7, 3, 8, 4, 8, 7, 6, 5, 3, 4, 8, 0, 5, 7, 6, 5, 0, 4, 9, 9, 0, 4, 2, 3, 5, 1, 1, 0, 2, 8, 2, 1, 1, 7, 5, 0, 1, 4, 1, 4, 8, 4, 9, 5, 4, 1, 1, 8, 0, 6, 9, 0, 0, 3, 0, 6, 8, 7, 3, 3, 8, 9, 0, 2, 2, 3, 6, 9, 3, 1, 6, 8, 5, 4, 4, 1, 9, 8, 5, 1, 7, 9, 9, 6, 2, 4, 3, 1, 3, 7, 7, 4, 2, 8, 4, 4, 3, 8, 8, 8, 3, 3, 5, 7, 4, 0, 4, 1, 5, 9, 7, 0, 6, 8, 3, 9, 0, 1, 8, 9, 4, 4, 3, 2, 4, 2, 0, 3, 3, 4, 4, 5, 1, 9, 1, 2, 6, 9, 6, 7, 8, 9, 2, 6, 1, 7, 4, 0, 6, 0, 1, 6, 5, 5, 5, 4, 7, 8, 0, 0, 4, 1, 3, 7, 7, 4, 3, 8, 4, 8, 9, 9, 4, 4, 4, 7, 6, 4, 4, 8, 6, 6, 7, 8, 7, 4, 8, 0, 5, 9, 3, 8, 0, 4, 5, 1, 9, 4, 9, 1, 1, 2, 2, 1, 3, 4, 3, 3, 1, 4, 8, 1, 1, 4, 1, 3, 4, 4, 6, 6, 9, 7, 8, 2, 3, 5, 4, 3, 6, 7, 7, 2, 1, 4, 1, 2, 7, 8, 3, 4, 0, 4, 5, 4, 3, 4, 4, 5, 1, 6, 8, 4, 9, 3, 9, 5, 5, 9, 7, 1, 4, 5, 3, 6, 1, 7, 4, 7, 1, 6, 6, 8, 6, 6, 0, 3, 4, 6, 4, 8, 6, 9, 4, 3, 4, 1, 4, 8, 5, 4, 1, 2, 6, 8, 4, 4, 8, 5, 5, 6, 5, 6, 0, 2, 4, 9, 4, 2, 9, 3, 1, 7, 9, 4, 1, 6, 9, 9, 4, 3, 9, 8, 7, 6, 9, 2, 9, 0, 9, 7, 5, 4, 3, 6, 6, 4, 8, 1, 8, 5, 6, 3, 1, 8, 6, 1, 7, 6, 5, 1, 3, 1, 2, 9, 0, 7, 5, 6, 7, 9, 0, 3, 9, 1, 0, 5, 3, 9, 6, 9, 8, 9, 0, 6, 9, 6, 3, 9, 5, 6, 9, 4, 2, 2, 4, 8, 3, 0, 8, 6, 9, 1, 4, 4, 6, 4, 3, 9, 5, 7, 0, 9, 4, 0, 8, 3, 7, 1, 8, 3, 0, 5, 2, 8, 8, 3, 9, 6, 0, 9, 5, 3, 9, 1, 3, 0, 7, 6, 9, 4, 3, 3, 1, 6, 6, 7, 9, 9, 7, 1, 4, 0, 1, 0, 8, 5, 3, 8, 4, 1, 5, 9, 9, 4, 7, 0, 1, 7, 6, 2, 6, 5, 8, 3, 1, 3, 9, 9, 9, 0, 8, 7, 7, 9, 3, 9, 1, 5, 6, 7, 6, 8, 8, 6, 2, 8, 2, 3, 6, 3, 4, 1, 6, 7, 1, 2, 1, 7, 9, 6, 0, 3, 8, 4, 6, 9, 7, 6, 7, 8, 0, 9, 8, 1, 1, 6, 6, 6, 5, 3, 8, 4, 9, 1, 7, 7, 5, 5, 1, 1, 9, 9, 8, 9, 1, 5, 5, 3, 0, 5, 0, 6, 4, 4, 6, 8, 9, 6, 5, 1, 1, 2, 2, 9, 0, 1, 0, 5, 2, 4, 7, 4, 8, 8, 3, 4, 6, 5, 9, 0, 1, 3, 9, 0, 9, 7, 3, 5, 9, 1, 9, 1, 1, 5, 3, 7, 7, 8, 3, 6, 6, 2, 0, 1, 9, 7, 3, 3, 5, 5, 1, 7, 6, 8, 4, 4, 5, 5, 3, 4, 1, 7, 4, 6, 4, 9, 2, 6, 1, 4, 1, 0, 0, 4, 6, 1, 5, 4, 0, 9, 3, 4, 4, 2, 3, 8, 5, 0, 1, 4, 6, 1, 9, 2, 8, 4, 7, 5, 5, 9, 7, 3, 7, 6, 3, 9, 0, 1, 4, 1, 4, 6, 1, 5, 8, 5, 0, 4, 1, 5, 8, 7, 3, 4, 8, 4, 6, 5, 2, 8, 1, 7, 6, 6, 9, 5, 8, 7, 9, 3, 6, 9, 0, 9, 8, 9, 8, 4, 7, 5, 2, 3, 5, 2, 9, 8, 7, 6, 9, 1, 9, 8, 6, 7, 4, 7, 5, 4, 5, 2, 7, 9, 4, 6, 7, 0, 1, 8, 1, 3, 7, 5, 6, 8, 2, 5, 1, 9, 9, 8, 6, 8, 6, 8, 9, 5, 4, 0, 1, 1, 6, 4, 3, 7, 9, 3, 3, 5, 6, 4, 6, 0, 3, 0, 1, 0, 2, 8, 6, 7, 2, 1, 7, 5, 0, 6, 6, 9, 4, 5, 5, 7, 1, 8, 6, 2, 2, 5, 4, 8, 0, 0, 3, 1, 6, 7, 4, 2, 8, 3, 6, 6, 1, 9, 6, 5, 8, 8, 8, 4, 7, 3, 8, 5, 7, 9, 1, 6, 1, 5, 4, 0, 7, 5, 6, 0, 9, 9, 6, 3, 3, 8, 4, 4, 8, 7, 3, 0, 4, 0, 0, 8, 4, 0, 1, 2, 1, 7, 7, 9, 8, 7, 5, 4, 0, 9, 0, 8, 8, 4, 0, 0, 4, 4, 8, 6, 4, 0, 6, 3, 5, 9, 5, 9, 1, 6, 8, 9, 8, 6, 9, 0, 3, 4, 3, 3, 1, 6, 4, 7, 4, 5, 9, 7, 5, 8, 0, 4, 0, 5, 4, 9, 7, 0, 3, 7, 7, 3, 5, 9, 8, 8, 9, 5, 3, 8, 9, 4, 4, 0, 7, 4, 1, 4, 1, 4, 8, 7, 0, 0, 4, 3, 2, 9, 7, 4, 9, 3, 6, 8, 8, 7, 6, 8, 5, 2, 4, 7, 1, 1, 3, 1, 3, 2, 1, 8, 8, 7, 0, 1, 6, 1, 3, 6, 7, 7, 8, 9, 0, 6, 6, 6, 5, 3, 2, 0, 1, 3, 8, 1, 0, 1, 3, 0, 8, 6, 3, 9, 6, 5, 4, 1, 9, 8, 4, 1, 0, 0, 8, 8, 6, 8, 2, 2, 4, 4, 0, 7, 7, 9, 1, 2, 4, 6, 1, 6, 4, 9, 4, 8, 6, 5, 6, 1, 6, 3, 6, 3, 2, 6, 6, 1, 1, 9, 4, 6, 9, 1, 0, 7, 1, 9, 5, 2, 6, 8, 7, 6, 5, 9, 1, 8, 2, 0, 2, 0, 8, 3, 8, 6, 5, 0, 2, 0, 5, 7, 7, 8, 0, 5, 5, 1, 6, 9, 5, 1, 0, 6, 5, 3, 3, 1, 7, 5, 1, 9, 8, 3, 8, 9, 7, 7, 0, 2, 6, 9, 4, 1, 6, 9, 6, 8, 6, 6, 8, 4, 6, 2, 6, 7, 1, 4, 6, 9, 6, 2, 1, 3, 3, 1, 5, 4, 9, 2, 6, 8, 7, 8, 7, 5, 0, 4, 8, 6, 0, 6, 3, 6, 3, 4, 6, 5, 0, 9, 0, 0, 6, 7, 7, 0, 3, 5, 7, 7, 5, 1, 4, 3, 5, 7, 3, 5, 6, 7, 3, 6, 9, 1, 6, 7, 0, 5, 0, 1, 3, 7, 3, 6, 6, 3, 9, 5, 6, 3, 0, 0, 0, 8, 8, 7, 4, 6, 3, 2, 7, 9, 6, 9, 0, 1, 6, 4, 7, 4, 4, 1, 3, 7, 2, 9, 9, 6, 9, 8, 5, 8, 5, 6, 3, 0, 9, 5, 8, 3, 9, 1, 1, 4, 9, 1, 6, 7, 3, 9, 1, 4, 7, 4, 7, 6, 7, 3, 3, 4, 3, 7, 3, 0, 5, 3, 0, 5, 4, 0, 3, 4, 1, 7, 2, 4, 6, 9, 4, 0, 9, 6, 0, 6, 1, 7, 1, 4, 2, 8, 5, 8, 7, 6, 4, 5, 2, 1, 3, 7, 6, 4, 1, 6, 0, 8, 3, 4, 2, 5, 7, 5, 7, 0, 1, 3, 4, 3, 3, 4, 1, 4, 2, 7, 0, 5, 2, 6, 6, 2, 5, 0, 6, 0, 6, 1, 5, 9, 0, 0, 1, 3, 5, 1, 1, 7, 9, 3, 5, 3, 3, 6, 0, 1, 9, 2, 6, 4, 1, 6, 3, 3, 5, 7, 0, 8, 3, 6, 4, 5, 2, 3, 4, 7, 2, 4, 1, 4, 6, 0, 8, 7, 9, 8, 5, 7, 4, 8, 6, 9, 6, 6, 4, 5, 8, 7, 3, 7, 8, 7, 0, 5, 2, 4, 0, 0, 2, 9, 9, 2, 8, 7, 4, 5, 5, 0, 9, 4, 9, 6, 8, 9, 8, 8, 6, 3, 4, 5, 3, 4, 4, 8, 2, 1, 4, 7, 2, 5, 8, 2, 5, 7, 6, 7, 0, 5, 4, 5, 5, 9, 9, 5, 4, 8, 3, 7, 2, 2, 4, 6, 6, 0, 5, 5, 8, 5, 5, 4, 1, 3, 5, 0, 7, 2, 0, 7, 2, 0, 1, 6, 4, 9, 5, 4, 5, 9, 3, 9, 3, 2, 4, 3, 1, 6, 9, 4, 8, 0, 5, 9, 4, 4, 4, 4, 1, 4, 6, 3, 0, 8, 8, 7, 6, 8, 4, 8, 1, 6, 5, 9, 2, 7, 9, 4, 5, 7, 2, 3, 6, 4, 7, 1, 5, 9, 3, 9, 2, 8, 4, 7, 8, 0, 3, 4, 6, 7, 7, 2, 4, 4, 7, 3, 6, 3, 1, 9, 8, 4, 9, 4, 7, 3, 9, 8, 5, 8, 6, 9, 0, 1, 7, 8, 5, 4, 4, 9, 6, 6, 6, 2, 3, 9, 7, 9, 9, 0, 4, 1, 1, 0, 6, 1, 9, 5, 6, 2, 5, 9, 4, 5, 4, 7, 4, 5, 4, 9, 8, 0, 7, 7, 8, 4, 0, 4, 0, 7, 0, 8, 0, 2, 0, 7, 4, 8, 4, 6, 3, 1, 1, 4, 6, 4, 4, 6, 9, 5, 6, 6, 3, 0, 3, 3, 6, 3, 6, 9, 0, 1, 5, 4, 2, 9, 5, 2, 1, 4, 8, 4, 1, 6, 3, 7, 8, 2, 0, 1, 8, 4, 5, 8, 4, 3, 0, 4, 0, 1, 9, 3, 0, 6, 6, 3, 4, 6, 8, 7, 0, 8, 7, 5, 3, 7, 6, 4, 2, 2, 3, 1, 0, 8, 6, 1, 6, 1, 6, 4, 7, 1, 8, 5, 2, 5, 9, 6, 5, 6, 7, 8, 0, 3, 6, 1, 0, 7, 9, 4, 2, 9, 3, 8, 2, 1, 8, 6, 1, 0, 1, 5, 2, 4, 6, 8, 1, 3, 2, 0, 2, 1, 5, 7, 0, 1, 3, 8, 4, 2, 9, 9, 8, 5, 9, 7, 1, 9, 9, 4, 7, 1, 3, 6, 7, 0, 8, 5, 9, 2, 1, 8, 6, 4, 3, 7, 6, 1, 5, 3, 5, 2, 4, 1, 8, 8, 6, 9, 4, 5, 8, 0, 8, 8, 5, 8, 3, 9, 9, 9, 2, 6, 0, 6, 9, 1, 1, 3, 4, 9, 5, 3, 3, 5, 3, 7, 1, 6, 9, 8, 5, 5, 8, 6, 4, 6, 2, 5, 8, 1, 7, 2, 8, 0, 7, 5, 3, 5, 7, 9, 6, 6, 8, 1, 7, 7, 8, 1, 5, 8, 6, 4, 0, 4, 4, 8, 7, 4, 4, 0, 6, 3, 9, 2, 4, 4, 4, 9, 2, 0, 5, 8, 0, 8, 8, 4, 4, 7, 9, 5, 7, 6, 2, 6, 9, 9, 9, 7, 4, 3, 1, 9, 1, 6, 5, 0, 8, 8, 5, 6, 9, 9, 9, 6, 5, 8, 8, 8, 5, 3, 4, 1, 1, 0, 0, 0, 2, 0, 7, 4, 6, 5, 3, 6, 9, 6, 6, 7, 0, 7, 7, 0, 8, 4, 2, 7, 7, 8, 6, 0, 1, 6, 0, 5, 3, 3, 2, 7, 0, 7, 6, 3, 2, 8, 8, 7, 3, 8, 0, 8, 0, 0, 0, 2, 4, 7, 0, 7, 7, 7, 2, 6, 0, 4, 0, 1, 7, 8, 4, 7, 7, 6, 1, 1, 6, 9, 3, 8, 9, 7, 1, 3, 9, 7, 4, 4, 0, 5, 4, 7, 5, 7, 9, 6, 5, 0, 8, 4, 3, 6, 1, 8, 4, 8, 4, 7, 7, 7, 2, 0, 9, 1, 8, 9, 4, 8, 1, 7, 1, 0, 8, 7, 6, 8, 4, 8, 2, 8, 2, 6, 9, 1, 1, 0, 4, 8, 9, 0, 0, 4, 3, 2, 4, 3, 6, 8, 1, 4, 4, 7, 8, 0, 8, 4, 1, 6, 3, 2, 5, 6, 6, 3, 6, 0, 8, 1, 6, 8, 3, 8, 9, 1, 3, 1, 9, 8, 5, 0, 7, 3, 4, 4, 0, 7, 6, 8, 8, 8, 6, 0, 8, 8, 8, 1, 1, 0, 7, 7, 4, 4, 7, 9, 2, 6, 6, 7, 4, 5, 4, 0, 9, 7, 7, 2, 5, 2, 7, 3, 7, 2, 2, 6, 4, 9, 6, 8, 3, 1, 5, 6, 2, 5, 4, 7, 3, 7, 7, 1, 5, 3, 7, 8, 8, 1, 5, 4, 8, 2, 6, 0, 0, 1, 4, 8, 7, 7, 1, 0, 9, 6, 4, 6, 9, 3, 6, 7, 9, 1, 4, 6, 8, 8, 7, 4, 7, 0, 3, 3, 1, 6, 9, 8, 1, 4, 0, 6, 1, 6, 1, 8, 4, 7, 5, 5, 2, 9, 0, 5, 1, 6, 6, 2, 0, 8, 1, 3, 7, 3, 9, 5, 6, 8, 8, 7, 8, 5, 9, 4, 4, 0, 0, 7, 0, 4, 8, 6, 4, 2, 5, 4, 8, 7, 3, 5, 8, 4, 3, 2, 9, 1, 8, 5, 9, 9, 1, 0, 3, 3, 3, 0, 1, 0, 6, 2, 0, 4, 1, 0, 7, 6, 1, 8, 4, 6, 0, 4, 5, 4, 7, 6, 5, 3, 5, 9, 4, 5, 0, 0, 5, 7, 4, 3, 9, 4, 5, 8, 1, 9, 6, 1, 8, 5, 8, 6, 4, 5, 6, 0, 4, 7, 2, 2, 1, 8, 6, 1, 4, 6, 5, 2, 3, 3, 5, 0, 2, 1, 2, 8, 0, 8, 2, 4, 7, 3, 7, 9, 8, 6, 0, 3, 5, 8, 6, 3, 5, 8, 9, 4, 8, 0, 0, 5, 5, 1, 8, 3, 7, 6, 8, 6, 9, 2, 8, 8, 6, 8, 9, 7, 7, 8, 7, 5, 7, 4, 3, 3, 9, 8, 1, 4, 3, 5, 5, 0, 6, 3, 0, 8, 4, 2, 1, 1, 6, 1, 6, 9, 6, 4, 3, 1, 1, 6, 7, 8, 3, 8, 8, 2, 8, 8, 3, 4, 6, 4, 6, 7, 8, 1, 7, 0, 6, 8, 9, 0, 6, 9, 0, 1, 1, 7, 0, 1, 0, 4, 5, 0, 3, 4, 3, 3, 3, 1, 8, 2, 3, 1, 3, 4, 5, 1, 4, 9, 8, 3, 1, 7, 4, 9, 8, 8, 8, 6, 8, 9, 7, 1, 6, 6, 4, 1, 2, 0, 8, 5, 6, 0, 4, 1, 6, 9, 3, 7, 9, 0, 3, 6, 5, 4, 8, 5, 1, 2, 6, 9, 4, 0, 0, 1, 4, 4, 5, 5, 9, 6, 3, 6, 2, 6, 8, 5, 4, 3, 8, 4, 1, 0, 6, 9, 6, 6, 2, 7, 6, 6, 6, 4, 1, 3, 5, 0, 6, 4, 6, 6, 0, 5, 4, 4, 8, 2, 5, 0, 3, 1, 0, 6, 4, 9, 8, 4, 0, 1, 6, 2, 4, 5, 5, 6, 8, 6, 0, 8, 7, 8, 9, 9, 7, 6, 6, 2, 2, 9, 8, 7, 1, 5, 3, 4, 6, 8, 8, 2, 9, 1, 6, 9, 8, 7, 3, 0, 4, 1, 2, 1, 5, 1, 4, 6, 8, 4, 4, 5, 1, 7, 3, 4, 1, 0, 1, 0, 8, 4, 8, 6, 7, 3, 9, 6, 1, 1, 6, 0, 7, 7, 1, 8, 5, 5, 9, 0, 4, 7, 0, 2, 2, 9, 6, 3, 5, 2, 4, 8, 0, 4, 8, 0, 3, 3, 7, 0, 4, 4, 0, 9, 6, 4, 1, 9, 8, 1, 2, 8, 6, 1, 1, 0, 8, 2, 6, 9, 4, 8, 8, 4, 1, 5, 4, 6, 9, 7, 1, 4, 8, 8, 9, 3, 9, 9, 8, 7, 7, 8, 4, 8, 6, 4, 5, 7, 7, 8, 7, 4, 6, 2, 2, 4, 4, 0, 7, 1, 3, 3, 6, 0, 8, 5, 6, 8, 6, 2, 4, 6, 5, 0, 9, 1, 0, 0, 1, 5, 0, 6, 9, 9, 6, 5, 1, 7, 1, 7, 9, 6, 6, 5, 1, 6, 4, 1, 5, 0, 4, 7, 6, 8, 4, 8, 5, 0, 0, 0, 5, 2, 8, 6, 7, 8, 9, 1, 5, 7, 6, 5, 9, 7, 6, 0, 0, 1, 7, 3, 2, 1, 2, 4, 1, 6, 7, 8, 2, 8, 1, 6, 6, 8, 6, 3, 8, 0, 1, 2, 0, 2, 7, 0, 8, 8, 4, 0, 4, 9, 1, 2, 1, 6, 1, 4, 1, 2, 6, 1, 0, 3, 3, 3, 6, 5, 1, 2, 1, 8, 7, 9, 5, 8, 7, 1, 1, 7, 7, 6, 5, 5, 3, 9, 5, 9, 2, 1, 7, 6, 4, 8, 8, 2, 1, 5, 4, 0, 0, 4, 0, 9, 4, 8, 4, 2, 5, 4, 0, 3, 4, 1, 8, 8, 3, 6, 5, 4, 5, 3, 7, 1, 7, 1, 4, 9, 3, 1, 4, 3, 5, 1, 7, 1, 6, 8, 9, 2, 5, 4, 0, 6, 3, 5, 7, 5, 3, 8, 1, 4, 6, 5, 6, 6, 8, 5, 6, 4, 8, 4, 1, 5, 8, 5, 3, 6, 0, 1, 6, 4, 2, 8, 2, 4, 2, 1, 4, 4, 7, 4, 0, 5, 5, 1, 6, 5, 7, 5, 6, 5, 6, 2, 4, 7, 0, 6, 2, 5, 0, 0, 3, 9, 4, 3, 8, 0, 7, 0, 6, 8, 1, 3, 8, 9, 1, 5, 4, 6, 3, 5, 5, 7, 6, 5, 8, 3, 7, 1, 3, 3, 7, 7, 4, 0, 2, 5, 9, 7, 1, 7, 6, 6, 4, 8, 4, 1, 2, 8, 4, 3, 3, 5, 3, 9, 2, 8, 7, 2, 9, 6, 8, 6, 7, 8, 6, 8, 3, 1, 3, 8, 1, 4, 5, 4, 6, 9, 2, 7, 6, 0, 5, 6, 9, 7, 5, 0, 7, 8, 6, 6, 3, 7, 8, 7, 6, 9, 6, 1, 0, 9, 6, 9, 8, 6, 1, 0, 1, 9, 6, 2, 8, 2, 9, 8, 2, 8, 0, 6, 6, 8, 4, 9, 3, 1, 3, 5, 5, 5, 1, 5, 6, 8, 4, 4, 1, 1, 8, 1, 1, 2, 3, 2, 1, 1, 5, 2, 7, 6, 5, 6, 9, 6, 9, 8, 8, 3, 7, 7, 3, 2, 1, 8, 0, 9, 0, 7, 8, 9, 6, 6, 2, 6, 2, 9, 0, 8, 8, 8, 5, 5, 5, 4, 3, 9, 0, 6, 1, 8, 4, 4, 5, 5, 0, 8, 9, 0, 2, 7, 9, 5, 5, 4, 6, 8, 8, 4, 1, 3, 4, 2, 0, 7, 5, 6, 9, 8, 1, 9, 7, 5, 3, 1, 6, 9, 1, 5, 8, 8, 1, 1, 5, 0, 9, 5, 1, 1, 6, 1, 7, 2, 6, 4, 4, 9, 6, 0, 9, 5, 9, 3, 7, 8, 8, 6, 9, 3, 6, 6, 0, 6, 9, 1, 7, 7, 9, 4, 5, 0, 0, 3, 9, 3, 8, 9, 1, 2, 7, 1, 3, 4, 6, 5, 1, 1, 7, 1, 9, 5, 8, 8, 9, 9, 7, 9, 1, 3, 0, 2, 6, 7, 2, 4, 4, 0, 8, 6, 8, 1, 3, 7, 2, 4, 9, 5, 2, 4, 9, 4, 6, 3, 7, 2, 5, 6, 5, 3, 1, 2, 4, 8, 6, 5, 0, 8, 0, 0, 8, 8, 6, 8, 0, 6, 6, 0, 4, 9, 8, 0, 7, 0, 9, 6, 0, 4, 7, 1, 7, 8, 3, 4, 6, 9, 2, 3, 6, 5, 1, 7, 7, 8, 0, 5, 6, 7, 4, 8, 4, 4, 6, 1, 9, 4, 1, 7, 0, 1, 0, 3, 0, 2, 9, 4, 5, 0, 3, 1, 7, 2, 3, 0, 1, 6, 0, 9, 9, 3, 7, 7, 6, 7, 1, 8, 5, 7, 2, 6, 1, 6, 9, 8, 7, 9, 7, 3, 6, 0, 3, 5, 6, 3, 5, 3, 5, 8, 3, 6, 4, 9, 2, 6, 3, 8, 6, 1, 8, 6, 7, 8, 6, 3, 1, 0, 4, 4, 0, 5, 9, 9, 6, 8, 8, 4, 0, 4, 8, 9, 1, 6, 6, 9, 1, 3, 2, 6, 3, 9, 3, 1, 5, 1, 2, 7, 6, 8, 8, 5, 0, 0, 7, 0, 4, 1, 3, 3, 0, 9, 3, 6, 7, 4, 0, 0, 8, 7, 2, 3, 6, 6, 4, 5, 4, 8, 9, 1, 0, 1, 5, 6, 4, 8, 6, 6, 0, 9, 9, 6, 3, 1, 8, 1, 6, 0, 6, 7, 9, 1, 6, 7, 7, 7, 1, 6, 6, 1, 1, 1, 4, 4, 7, 1, 5, 8, 0, 6, 1, 1, 4, 4, 6, 0, 9, 3, 2, 4, 8, 7, 5, 6, 6, 7, 6, 0, 2, 8, 5, 3, 8, 3, 4, 2, 0, 0, 9, 7, 3, 8, 4, 1, 1, 0, 2, 6, 2, 9, 3, 2, 6, 0, 6, 1, 8, 8, 2, 0, 1, 1, 9, 9, 5, 8, 5, 8, 6, 4, 7, 8, 7, 7, 7, 8, 6, 3, 5, 7, 1, 5, 1, 5, 8, 8, 7, 3, 5, 9, 8, 8, 5, 1, 0, 6, 6, 0, 8, 6, 0, 0, 8, 7, 1, 3, 6, 9, 1, 7, 4, 4, 1, 9, 3, 0, 5, 2, 8, 3, 8, 6, 8, 4, 0, 8, 6, 3, 1, 5, 1, 0, 7, 8, 4, 1, 7, 0, 8, 1, 3, 9, 1, 3, 1, 6, 1, 2, 8, 7, 0, 9, 5, 0, 8, 0, 1, 3, 7, 7, 8, 9, 6, 9, 9, 1, 3, 5, 0, 6, 1, 8, 9, 9, 8, 9, 4, 5, 5, 7, 1, 7, 8, 7, 5, 7, 9, 4, 6, 5, 9, 3, 8, 5, 6, 7, 9, 6, 4, 7, 4, 9, 2, 3, 1, 1, 6, 6, 7, 7, 8, 7, 0, 8, 9, 3, 2, 6, 5, 6, 6, 3, 1, 1, 8, 7, 3, 8, 0, 3, 1, 4, 8, 4, 9, 7, 2, 6, 5, 8, 8, 6, 0, 3, 3, 8, 1, 5, 3, 7, 9, 9, 9, 8, 5, 9, 9, 6, 8, 1, 8, 8, 1, 0, 1, 8, 8, 1, 3, 1, 0, 6, 8, 6, 6, 6, 3, 5, 0, 3, 9, 3, 6, 6, 8, 1, 4, 4, 5, 8, 3, 3, 8, 8, 5, 7, 9, 6, 6, 5, 3, 1, 8, 9, 0, 4, 2, 4, 3, 7, 3, 6, 4, 7, 7, 8, 4, 0, 5, 8, 6, 0, 1, 7, 9, 9, 6, 4, 7, 8, 8, 3, 8, 3, 0, 8, 2, 0, 3, 2, 6, 8, 7, 5, 7, 7, 8, 7, 3, 5, 4, 2, 3, 8, 6, 1, 1, 6, 5, 4, 2, 7, 9, 0, 4, 3, 1, 9, 8, 8, 5, 0, 0, 3, 5, 2, 8, 6, 3, 9, 6, 6, 5, 8, 4, 9, 3, 3, 3, 0, 1, 7, 9, 5, 8, 5, 4, 8, 6, 9, 0, 8, 3, 3, 1, 3, 3, 7, 7, 3, 8, 4, 6, 6, 4, 2, 6, 6, 8, 7, 6, 6, 6, 6, 5, 2, 7, 7, 4, 4, 7, 2, 0, 6, 7, 7, 8, 5, 3, 5, 1, 6, 7, 5, 3, 3, 8, 4, 6, 8, 3, 7, 7, 6, 1, 6, 7, 9, 0, 3, 7, 4, 9, 1, 2, 0, 2, 7, 8, 7, 1, 7, 3, 1, 6, 6, 6, 4, 2, 1, 8, 4, 4, 7, 8, 5, 8, 8, 4, 3, 4, 5, 1, 1, 8, 8, 1, 1, 1, 6, 8, 7, 1, 8, 4, 6, 5, 0, 3, 2, 6, 4, 3, 9, 8, 2, 8, 7, 8, 8, 1, 6, 0, 6, 9, 8, 5, 3, 6, 2, 6, 5, 6, 1, 2, 6, 4, 9, 8, 5, 4, 9, 3, 3, 7, 1, 7, 3, 8, 6, 4, 5, 1, 0, 8, 2, 1, 7, 8, 4, 9, 2, 1, 7, 4, 5, 9, 8, 6, 2, 1, 3, 1, 7, 3, 6, 5, 8, 8, 2, 0, 6, 5, 4, 5, 5, 4, 1, 8, 1, 8, 6, 0, 4, 3, 1, 9, 6, 3, 1, 3, 0, 1, 0, 4, 1, 8, 4, 8, 9, 1, 1, 5, 1, 8, 1, 6, 7, 7, 9, 9, 7, 8, 8, 6, 9, 4, 8, 8, 1, 6, 6, 6, 8, 3, 3, 9, 8, 8, 1, 6, 6, 7, 1, 0, 7, 6, 4, 1, 6, 0, 6, 6, 8, 6, 2, 1, 1, 8, 6, 7, 3, 5, 7, 4, 0, 1, 7, 8, 2, 4, 8, 7, 7, 8, 7, 6, 6, 0, 8, 0, 4, 9, 0, 6, 7, 1, 2, 8, 6, 8, 9, 9, 6, 7, 6, 7, 0, 6, 2, 8, 3, 8, 1, 5, 2, 2, 4, 3, 8, 3, 3, 6, 7, 8, 0, 6, 6, 2, 4, 6, 1, 9, 4, 4, 5, 5, 1, 1, 4, 1, 7, 5, 1, 7, 2, 6, 5, 6, 8, 3, 3, 2, 4, 4, 0, 7, 9, 2, 6, 0, 8, 1, 4, 4, 1, 2, 5, 3, 9, 8, 6, 8, 4, 7, 3, 7, 3, 2, 1, 1, 2, 1, 0, 1, 4, 4, 9, 3, 5, 9, 8, 7, 8, 3, 8, 8, 6, 4, 5, 9, 0, 7, 9, 6, 8, 6, 8, 5, 6, 9, 0, 4, 8, 5, 6, 4, 5, 8, 8, 4, 8, 6, 7, 2, 4, 1, 7, 4, 7, 6, 4, 2, 4, 8, 7, 4, 2, 2, 7, 7, 6, 8, 9, 8, 6, 5, 2, 9, 8, 7, 4, 3, 3, 7, 4, 3, 5, 3, 1, 8, 1, 5, 5, 2, 6, 9, 9, 3, 3, 7, 3, 2, 1, 4, 9, 7, 8, 8, 8, 9, 1, 1, 5, 7, 6, 0, 3, 4, 9, 6, 3, 8, 5, 0, 1, 5, 4, 2, 6, 4, 4, 8, 3, 4, 1, 5, 8, 6, 6, 7, 3, 0, 9, 9, 6, 1, 0, 4, 6, 6, 2, 9, 8, 6, 6, 6, 0, 1, 0, 1, 9, 2, 7, 2, 3, 0, 2, 7, 6, 4, 3, 1, 8, 7, 3, 0, 9, 3, 3, 6, 8, 7, 4, 1, 8, 1, 7, 2, 6, 8, 5, 2, 6, 5, 5, 9, 1, 8, 7, 2, 3, 4, 0, 9, 6, 2, 2, 4, 0, 4, 9, 4, 1, 8, 4, 5, 5, 9, 8, 5, 4, 8, 8, 9, 8, 0, 1, 6, 4, 9, 0, 5, 2, 4, 8, 6, 8, 9, 8, 6, 0, 0, 8, 2, 7, 6, 7, 7, 4, 0, 5, 8, 7, 1, 9, 0, 1, 4, 7, 8, 7, 9, 6, 0, 0, 7, 6, 8, 5, 2, 2, 0, 4, 9, 2, 9, 9, 9, 2, 6, 4, 0, 8, 4, 1, 4, 5, 0, 6, 4, 9, 1, 9, 4, 6, 7, 1, 8, 3, 9, 4, 1, 2, 7, 6, 1, 0, 0, 5, 6, 8, 4, 3, 7, 8, 8, 9, 6, 9, 3, 2, 8, 7, 8, 6, 5, 1, 4, 5, 7, 6, 9, 6, 2, 2, 4, 1, 0, 3, 9, 8, 9, 3, 5, 9, 3, 8, 1, 6, 3, 7, 5, 6, 1, 8, 2, 0, 5, 8, 4, 7, 8, 8, 0, 0, 9, 7, 0, 5, 8, 2, 5, 9, 5, 8, 9, 6, 0, 9, 5, 4, 7, 4, 9, 6, 6, 2, 3, 1, 3, 2, 0, 0, 9, 9, 6, 3, 8, 0, 7, 8, 6, 3, 9, 3, 6, 9, 4, 9, 7, 1, 0, 8, 9, 6, 9, 2, 7, 9, 4, 4, 0, 6, 6, 7, 0, 3, 7, 8, 8, 5, 8, 0, 3, 7, 3, 6, 7, 6, 6, 4, 5, 9, 0, 3, 9, 9, 8, 7, 7, 4, 8, 4, 9, 2, 3, 1, 0, 4, 0, 8, 8, 4, 8, 4, 4, 7, 3, 9, 2, 0, 1, 8, 8, 6, 4, 8, 3, 6, 8, 5, 9, 6, 2, 5, 3, 7, 3, 5, 8, 8, 1, 5, 9, 3, 1, 6, 0, 4, 1, 2, 5, 6, 3, 1, 9, 3, 6, 8, 4, 5, 4, 6, 7, 0, 9, 9, 3, 0, 4, 9, 8, 4, 1, 1, 1, 5, 0, 0, 8, 4, 1, 4, 4, 5, 4, 7, 3, 2, 0, 6, 6, 0, 1, 3, 9, 8, 6, 7, 8, 8, 4, 0, 9, 0, 1, 7, 1, 6, 7, 9, 5, 6, 1, 3, 9, 8, 4, 7, 1, 6, 3, 3, 9, 5, 1, 7, 6, 9, 8, 6, 0, 9, 2, 9, 8, 8, 3, 7, 3, 7, 1, 6, 9, 8, 9, 5, 3, 7, 4, 7, 3, 0, 5, 9, 7, 3, 7, 4, 6, 5, 8, 8, 4, 7, 3, 9, 0, 0, 2, 8, 8, 7, 6, 7, 8, 9, 3, 1, 8, 7, 8, 7, 1, 1, 5, 4, 0, 9, 7, 6, 5, 8, 2, 1, 9, 6, 3, 3, 9, 5, 4, 6, 7, 3, 6, 3, 3, 9, 7, 6, 4, 4, 6, 4, 5, 9, 4, 4, 1, 9, 6, 8, 4, 6, 7, 4, 7, 9, 0, 8, 7, 5, 3, 1, 1, 1, 3, 2, 8, 6, 1, 5, 8, 2, 9, 6, 9, 9, 5, 0, 8, 0, 9, 3, 2, 7, 3, 8, 3, 3, 6, 8, 9, 1, 1, 9, 8, 7, 1, 7, 6, 5, 7, 9, 7, 3, 2, 9, 8, 0, 3, 6, 9, 3, 1, 7, 9, 0, 6, 5, 7, 5, 6, 8, 7, 6, 1, 6, 9, 3, 9, 5, 6, 6, 9, 5, 4, 8, 0, 5, 0, 7, 3, 9, 2, 6, 9, 7, 2, 2, 6, 2, 1, 5, 6, 6, 3, 8, 3, 1, 2, 6, 3, 9, 8, 9, 4, 7, 5, 7, 9, 3, 4, 7, 9, 6, 8, 6, 3, 3, 1, 3, 1, 7, 0, 3, 2, 0, 9, 4, 7, 8, 5, 7, 4, 9, 6, 8, 0, 8, 4, 2, 5, 7, 4, 2, 2, 0, 8, 9, 7, 8, 1, 6, 6, 8, 8, 1, 0, 8, 0, 1, 6, 6, 0, 1, 6, 6, 4, 6, 5, 4, 0, 8, 4, 1, 4, 8, 5, 1, 1, 9, 9, 3, 9, 1, 2, 7, 5, 4, 4, 8, 6, 8, 9, 6, 6, 8, 0, 6, 1, 6, 6, 9, 0, 5, 7, 9, 2, 0, 9, 6, 4, 3, 4, 6, 6, 9, 7, 7, 6, 2, 2, 0, 1, 8, 9, 3, 1, 9, 0, 1, 8, 8, 6, 7, 6, 8, 6, 4, 5, 3, 0, 1, 2, 1, 7, 5, 8, 3, 4, 3, 9, 1, 5, 0, 8, 1, 1, 8, 7, 7, 5, 9, 7, 8, 1, 8, 4, 8, 2, 6, 2, 0, 2, 7, 0, 0, 4, 6, 6, 4, 8, 1, 8, 4, 6, 9, 9, 2, 0, 1, 4, 9, 9, 6, 7, 2, 0, 1, 6, 6, 9, 2, 2, 5, 6, 0, 9, 0, 1, 7, 3, 7, 3, 8, 7, 7, 6, 7, 8, 8, 5, 9, 4, 6, 5, 1, 1, 8, 5, 3, 9, 4, 8, 1, 7, 7, 8, 9, 4, 7, 6, 8, 2, 8, 0, 7, 6, 7, 0, 2, 1, 2, 9, 4, 6, 9, 6, 1, 0, 1, 0, 7, 1, 0, 4, 7, 4, 5, 3, 1, 7, 9, 9, 7, 4, 5, 8, 1, 4, 4, 9, 8, 8, 9, 6, 3, 7, 0, 8, 9, 1, 4, 6, 6, 6, 9, 7, 4, 6, 8, 4, 6, 8, 6, 1, 9, 9, 1, 3, 3, 2, 3, 0, 6, 1, 4, 3, 9, 6, 4, 1, 6, 6, 2, 5, 6, 1, 2, 4, 0, 2, 7, 8, 4, 4, 0, 8, 6, 1, 6, 1, 5, 6, 6, 3, 2, 6, 8, 8, 6, 3, 1, 2, 0, 0, 1, 3, 8, 4, 9, 1, 5, 7, 1, 8, 0, 1, 5, 0, 1, 1, 9, 3, 8, 1, 1, 1, 8, 6, 1, 1, 0, 3, 0, 4, 0, 5, 9, 4, 0, 2, 9, 3, 9, 2, 6, 4, 8, 7, 2, 4, 3, 6, 7, 0, 6, 8, 5, 9, 8, 8, 0, 0, 4, 6, 0, 2, 9, 7, 5, 0, 4, 6, 8, 6, 6, 6, 8, 8, 9, 8, 9, 7, 2, 1, 0, 8, 0, 9, 0, 6, 5, 7, 7, 9, 1, 7, 1, 8, 4, 5, 0, 8, 0, 3, 3, 6, 1, 4, 4, 8, 8, 0, 9, 7, 6, 6, 0, 1, 1, 3, 8, 8, 7, 7, 9, 7, 8, 2, 1, 4, 5, 9, 6, 8, 5, 5, 8, 4, 3, 8, 2, 8, 8, 0, 8, 2, 4, 1, 8, 6, 9, 5, 7, 1, 7, 1, 5, 7, 0, 5, 8, 3, 3, 8, 5, 4, 0, 8, 0, 0, 9, 6, 2, 3, 2, 8, 6, 2, 6, 6, 5, 3, 2, 9, 4, 0, 9, 7, 6, 5, 4, 3, 0, 4, 6, 0, 7, 3, 8, 0, 8, 4, 7, 0, 3, 3, 3, 8, 4, 5, 7, 7]\n",
            "[3, 8, 8, 0, 6, 6, 1, 6, 3, 1, 0, 9, 5, 7, 9, 8, 5, 7, 8, 6, 7, 0, 4, 9, 5, 2, 4, 0, 9, 6, 6, 5, 4, 5, 9, 2, 4, 1, 9, 5, 4, 6, 5, 6, 0, 9, 3, 9, 7, 6, 9, 8, 0, 3, 8, 8, 7, 7, 4, 6, 7, 3, 6, 3, 6, 2, 1, 2, 3, 7, 2, 6, 8, 8, 0, 2, 9, 3, 3, 8, 8, 1, 1, 7, 2, 5, 2, 7, 8, 9, 0, 3, 8, 6, 4, 6, 6, 0, 0, 7, 4, 5, 6, 3, 1, 1, 3, 6, 8, 7, 4, 0, 6, 2, 1, 3, 0, 4, 2, 7, 8, 3, 1, 2, 8, 0, 8, 3, 5, 2, 4, 1, 8, 9, 1, 2, 9, 7, 2, 9, 6, 5, 6, 3, 8, 7, 6, 2, 5, 2, 8, 9, 6, 0, 0, 5, 2, 9, 5, 4, 2, 1, 6, 6, 8, 4, 8, 4, 5, 0, 9, 9, 9, 8, 9, 9, 3, 7, 5, 0, 0, 5, 2, 2, 3, 8, 6, 3, 4, 0, 5, 8, 0, 1, 7, 2, 8, 8, 7, 8, 5, 1, 8, 7, 1, 3, 0, 5, 7, 9, 7, 4, 5, 9, 8, 0, 7, 9, 8, 2, 7, 6, 9, 4, 3, 9, 6, 4, 7, 6, 5, 1, 5, 8, 8, 0, 4, 0, 5, 5, 1, 1, 8, 9, 0, 3, 1, 9, 2, 2, 5, 3, 9, 9, 4, 0, 3, 0, 0, 9, 8, 1, 5, 7, 0, 8, 2, 4, 7, 0, 2, 3, 6, 3, 8, 5, 0, 3, 4, 3, 9, 0, 6, 1, 0, 9, 1, 0, 7, 9, 1, 2, 6, 9, 3, 4, 6, 0, 0, 6, 6, 6, 3, 2, 6, 1, 8, 2, 1, 6, 8, 6, 8, 0, 4, 0, 7, 7, 5, 5, 3, 5, 2, 3, 4, 1, 7, 5, 4, 6, 1, 9, 3, 6, 6, 9, 3, 8, 0, 7, 2, 6, 2, 5, 8, 5, 4, 6, 8, 9, 9, 1, 0, 2, 2, 7, 3, 2, 8, 0, 9, 5, 8, 1, 9, 4, 1, 3, 8, 1, 4, 7, 9, 4, 2, 7, 0, 7, 0, 6, 6, 9, 0, 9, 2, 8, 7, 2, 2, 5, 1, 2, 6, 2, 9, 6, 2, 3, 0, 3, 9, 8, 7, 8, 8, 4, 0, 1, 8, 2, 7, 9, 3, 6, 1, 9, 0, 7, 3, 7, 4, 5, 0, 0, 2, 9, 3, 4, 0, 6, 2, 5, 3, 7, 3, 7, 2, 5, 3, 1, 1, 4, 9, 9, 5, 7, 5, 0, 2, 2, 2, 9, 7, 3, 9, 4, 3, 5, 4, 6, 5, 6, 1, 4, 3, 4, 4, 3, 7, 8, 3, 7, 8, 0, 5, 7, 6, 0, 5, 4, 8, 6, 8, 5, 5, 9, 9, 9, 5, 0, 1, 0, 8, 1, 1, 8, 0, 2, 2, 0, 4, 6, 5, 4, 9, 4, 7, 9, 9, 4, 5, 6, 6, 1, 5, 3, 8, 9, 5, 8, 5, 7, 0, 7, 0, 5, 0, 0, 4, 6, 9, 0, 9, 5, 6, 6, 6, 2, 9, 0, 1, 7, 6, 7, 5, 9, 1, 6, 2, 5, 5, 5, 8, 5, 9, 4, 6, 4, 3, 2, 0, 7, 6, 2, 2, 3, 9, 7, 9, 2, 6, 7, 1, 3, 6, 6, 8, 9, 7, 5, 4, 0, 8, 4, 0, 9, 3, 4, 8, 9, 6, 9, 2, 6, 1, 4, 7, 3, 5, 3, 8, 5, 0, 2, 1, 6, 4, 3, 3, 9, 6, 9, 8, 8, 5, 8, 6, 6, 2, 1, 7, 7, 1, 2, 7, 9, 9, 4, 4, 1, 2, 5, 6, 8, 7, 6, 8, 3, 0, 5, 5, 3, 0, 7, 9, 1, 3, 4, 4, 5, 3, 9, 5, 6, 9, 2, 1, 1, 4, 1, 9, 4, 7, 6, 3, 8, 9, 0, 1, 3, 6, 3, 6, 3, 2, 0, 3, 1, 0, 5, 9, 6, 4, 8, 9, 6, 9, 6, 3, 0, 3, 2, 2, 7, 8, 3, 8, 2, 7, 5, 7, 2, 4, 8, 7, 4, 2, 9, 8, 8, 6, 8, 8, 7, 4, 3, 3, 8, 4, 9, 4, 8, 8, 1, 8, 2, 1, 3, 6, 5, 4, 2, 7, 9, 9, 4, 1, 4, 1, 3, 2, 7, 0, 7, 9, 7, 6, 6, 2, 5, 9, 2, 9, 1, 2, 2, 6, 8, 2, 1, 3, 6, 6, 0, 1, 2, 7, 0, 5, 4, 6, 1, 6, 4, 0, 2, 2, 6, 0, 5, 9, 1, 7, 6, 7, 0, 3, 9, 6, 8, 3, 0, 3, 4, 7, 7, 1, 4, 7, 2, 7, 1, 4, 7, 4, 4, 8, 4, 7, 7, 5, 3, 7, 2, 0, 8, 9, 5, 8, 3, 6, 2, 0, 8, 7, 3, 7, 6, 5, 3, 1, 3, 2, 2, 5, 4, 1, 2, 9, 2, 7, 0, 7, 2, 1, 3, 2, 0, 2, 4, 7, 9, 8, 9, 0, 7, 7, 0, 7, 8, 4, 6, 3, 3, 0, 1, 3, 7, 0, 1, 3, 1, 4, 2, 3, 8, 4, 2, 3, 7, 8, 4, 3, 0, 9, 0, 0, 1, 0, 4, 4, 6, 7, 6, 1, 1, 3, 7, 3, 5, 2, 6, 6, 5, 8, 7, 1, 6, 8, 8, 5, 3, 0, 4, 0, 1, 3, 8, 8, 0, 6, 9, 9, 9, 5, 5, 8, 6, 0, 0, 4, 2, 3, 2, 7, 2, 2, 5, 9, 8, 9, 1, 7, 4, 0, 3, 0, 1, 3, 8, 3, 9, 6, 1, 4, 7, 0, 3, 7, 8, 9, 1, 1, 6, 6, 6, 6, 9, 1, 9, 9, 4, 2, 1, 7, 0, 6, 8, 1, 9, 2, 9, 0, 4, 7, 8, 3, 1, 2, 0, 1, 5, 8, 4, 6, 3, 8, 1, 3, 8, 5, 0, 8, 4, 8, 1, 1, 8, 9, 6, 0, 8, 6, 1, 3, 4, 1, 6, 0, 5, 1, 1, 0, 0, 3, 5, 0, 0, 6, 6, 3, 3, 6, 3, 6, 6, 0, 7, 2, 2, 7, 5, 5, 2, 8, 5, 2, 1, 1, 4, 3, 2, 0, 3, 1, 5, 3, 7, 6, 8, 9, 1, 6, 4, 9, 3, 9, 0, 9, 6, 3, 6, 0, 7, 3, 8, 0, 0, 0, 6, 6, 6, 9, 2, 5, 4, 4, 6, 3, 6, 0, 8, 6, 0, 6, 2, 7, 5, 1, 2, 7, 8, 8, 0, 9, 4, 9, 7, 2, 0, 2, 8, 3, 8, 9, 1, 5, 5, 4, 7, 5, 3, 8, 3, 3, 6, 2, 8, 4, 3, 7, 1, 2, 4, 1, 6, 9, 0, 5, 8, 6, 1, 8, 6, 1, 4, 2, 6, 2, 7, 2, 2, 0, 8, 6, 9, 1, 7, 1, 8, 8, 0, 7, 3, 8, 0, 3, 4, 3, 7, 7, 9, 2, 3, 1, 9, 1, 9, 6, 3, 3, 3, 1, 0, 6, 1, 4, 1, 0, 0, 1, 1, 6, 5, 4, 6, 2, 0, 7, 9, 8, 7, 2, 0, 6, 8, 1, 4, 3, 7, 0, 6, 1, 8, 5, 7, 8, 4, 8, 3, 9, 9, 9, 8, 7, 6, 6, 3, 5, 1, 5, 9, 1, 4, 1, 5, 7, 0, 1, 5, 2, 0, 8, 8, 5, 6, 7, 3, 2, 4, 7, 2, 5, 8, 2, 4, 9, 2, 1, 8, 1, 9, 8, 8, 8, 9, 0, 4, 3, 3, 1, 8, 4, 6, 3, 3, 5, 2, 2, 8, 3, 8, 9, 5, 8, 9, 8, 9, 1, 6, 5, 9, 4, 4, 8, 0, 7, 2, 9, 7, 4, 1, 6, 4, 4, 9, 1, 2, 5, 6, 0, 8, 6, 1, 9, 4, 5, 9, 5, 0, 7, 2, 0, 0, 4, 2, 6, 6, 5, 5, 2, 8, 1, 7, 3, 1, 4, 5, 6, 5, 1, 4, 7, 0, 9, 4, 3, 8, 2, 8, 4, 7, 2, 3, 1, 5, 2, 9, 8, 9, 7, 9, 5, 1, 4, 0, 8, 2, 3, 8, 9, 1, 1, 3, 2, 4, 9, 3, 1, 7, 4, 6, 2, 8, 9, 5, 3, 9, 5, 5, 6, 7, 2, 4, 6, 3, 1, 0, 7, 2, 5, 4, 7, 6, 1, 1, 9, 8, 1, 0, 1, 3, 1, 1, 1, 7, 3, 9, 6, 8, 4, 6, 8, 4, 9, 4, 7, 9, 7, 6, 8, 4, 9, 7, 0, 1, 6, 1, 5, 9, 0, 4, 3, 4, 1, 3, 0, 8, 4, 6, 2, 2, 6, 5, 3, 6, 2, 1, 1, 8, 6, 0, 4, 0, 1, 9, 7, 1, 3, 7, 7, 8, 7, 7, 3, 9, 7, 7, 7, 2, 1, 2, 8, 6, 4, 0, 7, 9, 8, 6, 8, 4, 9, 1, 7, 2, 2, 8, 5, 8, 1, 2, 2, 4, 1, 2, 5, 2, 8, 1, 8, 1, 8, 6, 0, 2, 4, 1, 3, 6, 7, 7, 4, 4, 3, 3, 4, 5, 2, 4, 3, 7, 8, 4, 4, 4, 5, 4, 3, 2, 8, 4, 5, 5, 4, 1, 4, 2, 5, 1, 6, 4, 3, 4, 4, 0, 8, 8, 4, 5, 7, 5, 6, 9, 1, 6, 7, 2, 0, 1, 4, 5, 6, 0, 0, 2, 7, 5, 6, 0, 6, 2, 9, 1, 7, 7, 5, 2, 5, 6, 4, 1, 4, 3, 3, 3, 0, 3, 5, 5, 8, 9, 7, 3, 1, 3, 3, 3, 4, 4, 2, 3, 3, 8, 1, 7, 7, 0, 7, 4, 5, 1, 4, 2, 4, 3, 9, 9, 4, 9, 9, 1, 8, 1, 6, 7, 5, 5, 4, 9, 7, 6, 5, 9, 2, 4, 0, 7, 8, 5, 5, 0, 0, 9, 9, 8, 2, 5, 4, 8, 3, 6, 3, 6, 0, 6, 6, 6, 9, 6, 6, 8, 6, 2, 4, 5, 8, 1, 2, 7, 6, 5, 7, 8, 1, 8, 0, 8, 6, 9, 2, 8, 9, 4, 0, 9, 4, 9, 5, 7, 5, 5, 9, 5, 3, 0, 1, 9, 7, 2, 4, 1, 0, 8, 0, 3, 1, 7, 0, 0, 4, 8, 6, 2, 4, 0, 0, 9, 0, 8, 4, 5, 9, 3, 9, 0, 5, 6, 5, 0, 1, 4, 8, 1, 0, 5, 2, 1, 0, 2, 8, 1, 5, 6, 7, 7, 2, 6, 2, 5, 0, 1, 4, 2, 5, 4, 6, 2, 2, 1, 7, 2, 8, 5, 5, 3, 0, 4, 8, 3, 7, 6, 3, 8, 1, 0, 1, 3, 3, 0, 7, 4, 9, 5, 3, 6, 0, 1, 4, 4, 4, 4, 2, 2, 5, 8, 1, 5, 9, 8, 1, 1, 5, 3, 9, 9, 7, 6, 5, 0, 8, 4, 7, 0, 9, 2, 8, 4, 7, 1, 3, 9, 6, 8, 9, 0, 4, 9, 6, 7, 8, 9, 4, 8, 9, 7, 2, 5, 3, 7, 1, 0, 2, 9, 5, 5, 8, 5, 4, 2, 8, 3, 5, 5, 7, 7, 8, 6, 2, 8, 2, 3, 5, 6, 8, 0, 2, 3, 7, 0, 1, 9, 1, 3, 7, 5, 8, 3, 2, 9, 6, 8, 6, 9, 3, 8, 9, 8, 0, 7, 8, 5, 0, 0, 1, 3, 9, 1, 5, 3, 4, 4, 0, 9, 9, 9, 9, 8, 2, 4, 2, 2, 5, 1, 9, 1, 0, 9, 4, 2, 1, 6, 0, 3, 7, 6, 3, 1, 8, 6, 5, 7, 2, 8, 4, 4, 8, 3, 5, 0, 5, 7, 4, 4, 2, 2, 7, 3, 6, 0, 2, 7, 6, 2, 3, 0, 7, 7, 8, 1, 1, 4, 6, 0, 6, 6, 5, 5, 6, 3, 9, 3, 6, 8, 7, 6, 4, 9, 5, 6, 4, 1, 6, 3, 8, 2, 3, 9, 8, 5, 1, 5, 4, 5, 7, 5, 7, 8, 9, 1, 7, 2, 5, 6, 8, 4, 6, 5, 3, 9, 9, 8, 5, 5, 6, 4, 5, 9, 7, 3, 4, 1, 4, 2, 3, 6, 5, 5, 2, 8, 0, 0, 1, 8, 3, 1, 3, 5, 8, 3, 8, 5, 8, 6, 3, 5, 5, 5, 0, 9, 5, 5, 7, 1, 8, 2, 2, 7, 3, 4, 2, 9, 6, 2, 2, 4, 3, 0, 2, 0, 1, 3, 2, 2, 7, 0, 1, 0, 7, 7, 2, 0, 1, 6, 5, 0, 2, 2, 0, 1, 2, 6, 0, 1, 6, 6, 5, 3, 4, 0, 0, 9, 1, 0, 2, 5, 9, 7, 8, 6, 4, 6, 0, 2, 0, 1, 9, 2, 4, 9, 0, 7, 2, 3, 4, 8, 0, 2, 6, 8, 9, 7, 1, 9, 3, 7, 2, 7, 9, 6, 9, 5, 7, 8, 5, 9, 8, 3, 9, 8, 0, 5, 5, 7, 1, 2, 0, 7, 5, 8, 2, 2, 5, 3, 9, 3, 1, 9, 3, 1, 4, 3, 4, 4, 9, 0, 9, 5, 9, 2, 9, 4, 0, 2, 8, 4, 8, 6, 8, 2, 0, 5, 9, 6, 9, 5, 1, 3, 4, 4, 2, 7, 2, 4, 4, 0, 2, 8, 4, 5, 1, 2, 6, 8, 1, 7, 2, 8, 7, 4, 3, 3, 0, 3, 7, 2, 5, 6, 1, 7, 9, 0, 2, 3, 9, 8, 9, 5, 0, 0, 7, 6, 3, 3, 8, 1, 4, 0, 1, 5, 4, 3, 2, 6, 0, 8, 8, 6, 3, 3, 2, 9, 7, 5, 1, 6, 0, 5, 9, 9, 4, 5, 9, 4, 8, 3, 3, 2, 5, 1, 9, 5, 5, 8, 1, 8, 9, 7, 0, 6, 3, 2, 0, 2, 6, 9, 3, 9, 1, 6, 6, 7, 2, 6, 3, 2, 5, 5, 2, 7, 5, 2, 0, 8, 0, 7, 7, 1, 7, 4, 0, 2, 2, 6, 1, 5, 9, 7, 6, 2, 7, 0, 5, 6, 0, 1, 1, 8, 4, 5, 3, 1, 2, 4, 8, 9, 8, 1, 7, 2, 7, 2, 3, 2, 6, 7, 9, 4, 0, 1, 0, 4, 5, 0, 8, 0, 7, 6, 1, 0, 8, 5, 9, 2, 5, 4, 4, 9, 0, 6, 1, 2, 5, 1, 6, 7, 1, 5, 8, 8, 0, 3, 9, 4, 0, 3, 4, 9, 2, 4, 3, 0, 6, 4, 5, 6, 6, 7, 8, 4, 8, 8, 3, 2, 8, 0, 2, 5, 6, 8, 7, 8, 9, 9, 0, 6, 6, 8, 1, 1, 7, 4, 4, 2, 3, 6, 9, 6, 2, 4, 1, 8, 2, 3, 1, 6, 8, 6, 8, 5, 9, 0, 1, 0, 2, 9, 2, 9, 0, 9, 7, 8, 5, 0, 6, 6, 8, 1, 6, 5, 8, 7, 9, 2, 1, 6, 7, 5, 6, 3, 0, 9, 8, 9, 5, 9, 9, 9, 3, 6, 4, 4, 8, 8, 1, 7, 3, 0, 6, 2, 4, 8, 2, 2, 9, 2, 2, 9, 7, 4, 1, 9, 1, 4, 3, 5, 3, 8, 9, 3, 6, 2, 0, 8, 9, 0, 5, 1, 5, 8, 2, 1, 2, 3, 2, 4, 8, 4, 0, 6, 4, 2, 9, 8, 4, 7, 6, 2, 4, 7, 7, 6, 4, 2, 2, 3, 2, 4, 9, 0, 0, 9, 6, 5, 8, 5, 2, 4, 8, 8, 6, 4, 5, 7, 6, 3, 7, 0, 4, 0, 5, 8, 2, 8, 0, 4, 9, 2, 3, 6, 8, 1, 6, 0, 8, 4, 3, 1, 4, 5, 2, 4, 3, 6, 0, 7, 1, 3, 5, 7, 1, 8, 0, 4, 8, 2, 7, 7, 0, 2, 2, 4, 3, 3, 1, 6, 1, 6, 4, 6, 7, 4, 7, 3, 8, 1, 3, 1, 4, 6, 5, 5, 7, 4, 5, 4, 9, 7, 7, 2, 3, 3, 6, 7, 4, 1, 6, 1, 0, 6, 9, 6, 0, 2, 0, 2, 4, 7, 0, 0, 0, 0, 7, 5, 3, 2, 7, 8, 5, 5, 2, 2, 8, 9, 1, 2, 2, 0, 3, 4, 9, 1, 6, 9, 0, 8, 3, 6, 4, 6, 7, 5, 1, 8, 9, 0, 5, 0, 5, 4, 3, 8, 5, 2, 0, 8, 5, 9, 2, 5, 6, 5, 7, 3, 7, 2, 8, 8, 4, 2, 1, 6, 2, 9, 9, 8, 2, 3, 1, 0, 5, 2, 3, 7, 9, 5, 9, 1, 1, 3, 2, 7, 4, 4, 1, 9, 4, 5, 5, 2, 7, 7, 6, 1, 2, 3, 7, 5, 4, 3, 7, 7, 0, 0, 1, 4, 4, 3, 7, 9, 8, 7, 0, 9, 0, 3, 7, 6, 3, 8, 4, 5, 6, 5, 3, 4, 2, 9, 2, 4, 9, 2, 0, 1, 1, 3, 7, 9, 5, 1, 6, 0, 3, 3, 7, 2, 4, 5, 2, 3, 6, 3, 3, 0, 4, 4, 3, 8, 1, 2, 3, 2, 7, 1, 4, 5, 6, 8, 6, 6, 5, 4, 2, 9, 9, 3, 2, 0, 4, 1, 5, 5, 6, 6, 5, 6, 9, 7, 9, 4, 8, 3, 1, 9, 8, 1, 9, 0, 3, 0, 4, 7, 7, 2, 6, 5, 6, 9, 7, 7, 5, 7, 0, 8, 6, 7, 8, 3, 8, 9, 3, 2, 9, 2, 7, 4, 1, 9, 7, 0, 8, 1, 2, 0, 6, 5, 1, 4, 2, 8, 2, 8, 3, 3, 1, 4, 9, 8, 1, 1, 7, 9, 9, 4, 6, 8, 5, 3, 2, 2, 3, 8, 5, 1, 9, 7, 9, 1, 5, 3, 1, 0, 3, 8, 9, 2, 0, 8, 0, 7, 9, 4, 8, 3, 0, 7, 0, 7, 0, 5, 5, 4, 3, 0, 9, 9, 0, 2, 2, 0, 8, 4, 4, 5, 2, 2, 1, 1, 5, 5, 4, 3, 4, 0, 8, 4, 8, 2, 5, 6, 5, 1, 7, 2, 4, 0, 5, 6, 8, 7, 6, 3, 1, 3, 6, 6, 4, 5, 5, 5, 1, 8, 7, 3, 0, 2, 5, 1, 1, 1, 6, 7, 2, 1, 2, 3, 9, 8, 3, 1, 7, 4, 8, 4, 7, 5, 8, 6, 0, 3, 0, 8, 3, 4, 4, 9, 4, 6, 1, 5, 7, 7, 9, 0, 1, 3, 1, 3, 2, 4, 0, 7, 8, 3, 1, 6, 2, 1, 8, 8, 1, 9, 7, 5, 3, 2, 9, 0, 6, 8, 4, 1, 5, 7, 2, 4, 7, 0, 4, 9, 0, 7, 0, 6, 7, 1, 8, 5, 8, 8, 7, 0, 0, 3, 2, 5, 7, 0, 6, 4, 4, 9, 1, 8, 6, 3, 9, 4, 9, 3, 3, 7, 5, 9, 7, 7, 4, 5, 8, 2, 8, 9, 5, 3, 1, 9, 2, 2, 0, 1, 1, 8, 1, 1, 9, 8, 9, 9, 0, 2, 6, 9, 1, 9, 0, 1, 9, 2, 9, 9, 9, 0, 9, 9, 2, 1, 7, 0, 5, 6, 3, 9, 8, 3, 0, 2, 7, 7, 4, 8, 3, 0, 5, 2, 3, 5, 7, 6, 6, 6, 5, 6, 5, 4, 5, 8, 8, 0, 9, 7, 9, 0, 6, 9, 6, 1, 4, 7, 9, 0, 3, 5, 4, 7, 6, 9, 8, 2, 3, 9, 3, 3, 7, 8, 3, 5, 5, 9, 6, 1, 4, 7, 4, 8, 7, 7, 1, 3, 0, 3, 2, 5, 4, 9, 3, 5, 4, 7, 0, 3, 7, 0, 2, 1, 5, 8, 7, 3, 5, 7, 8, 5, 7, 8, 1, 5, 4, 7, 0, 8, 3, 2, 9, 7, 4, 1, 6, 5, 9, 8, 5, 5, 4, 1, 0, 9, 4, 4, 3, 0, 4, 8, 0, 8, 2, 9, 5, 9, 7, 4, 6, 7, 9, 2, 9, 3, 7, 7, 8, 2, 2, 0, 2, 5, 3, 6, 4, 7, 2, 3, 7, 8, 7, 2, 5, 0, 0, 7, 0, 9, 6, 1, 0, 3, 9, 7, 4, 9, 1, 6, 8, 1, 2, 3, 3, 5, 4, 8, 9, 7, 4, 4, 1, 2, 4, 9, 8, 7, 9, 5, 1, 2, 1, 6, 6, 4, 5, 7, 4, 5, 8, 5, 2, 8, 7, 8, 2, 3, 6, 1, 3, 3, 1, 5, 1, 9, 0, 9, 2, 0, 6, 2, 4, 8, 5, 7, 6, 1, 2, 9, 4, 5, 0, 3, 3, 7, 7, 7, 1, 4, 5, 0, 2, 8, 5, 0, 0, 6, 2, 0, 8, 4, 5, 4, 5, 6, 4, 7, 9, 4, 2, 0, 6, 4, 0, 0, 6, 4, 6, 1, 9, 5, 5, 2, 2, 6, 3, 4, 5, 9, 1, 7, 2, 3, 9, 6, 5, 0, 2, 9, 7, 1, 7, 2, 2, 0, 8, 6, 4, 3, 2, 7, 7, 0, 4, 1, 6, 5, 1, 3, 0, 3, 9, 0, 0, 2, 5, 0, 4, 0, 1, 9, 8, 4, 9, 4, 2, 4, 3, 3, 4, 0, 4, 3, 2, 8, 9, 1, 5, 8, 1, 8, 2, 4, 5, 2, 4, 1, 1, 6, 6, 8, 5, 2, 2, 5, 0, 8, 2, 3, 6, 2, 9, 6, 1, 4, 5, 9, 0, 1, 0, 0, 8, 1, 1, 6, 6, 9, 5, 4, 1, 7, 8, 6, 9, 1, 7, 6, 0, 9, 3, 5, 3, 2, 5, 3, 4, 9, 7, 1, 4, 4, 6, 1, 3, 8, 8, 0, 6, 7, 7, 6, 7, 2, 3, 2, 2, 6, 2, 7, 4, 0, 3, 6, 2, 6, 3, 3, 0, 9, 5, 1, 1, 5, 3, 6, 4, 3, 4, 1, 0, 4, 5, 5, 2, 8, 9, 4, 3, 1, 8, 0, 1, 3, 3, 4, 4, 2, 9, 7, 6, 8, 1, 8, 9, 1, 3, 1, 7, 3, 0, 0, 2, 8, 3, 9, 2, 7, 2, 6, 0, 1, 6, 1, 6, 7, 5, 5, 2, 5, 9, 4, 0, 2, 3, 4, 9, 4, 1, 0, 0, 2, 3, 8, 9, 2, 8, 9, 5, 7, 9, 1, 4, 6, 2, 8, 4, 4, 8, 9, 3, 1, 1, 6, 5, 8, 4, 6, 4, 5, 2, 6, 4, 2, 3, 1, 3, 6, 8, 5, 2, 2, 7, 1, 6, 2, 5, 9, 2, 8, 1, 6, 9, 2, 7, 5, 3, 2, 9, 7, 0, 2, 9, 3, 4, 1, 7, 9, 5, 8, 9, 7, 3, 4, 0, 9, 7, 4, 2, 4, 7, 0, 1, 8, 1, 0, 4, 6, 1, 9, 9, 2, 1, 2, 5, 6, 9, 7, 7, 3, 4, 2, 0, 2, 5, 6, 7, 3, 7, 9, 4, 2, 0, 6, 1, 7, 5, 6, 5, 3, 9, 2, 7, 8, 5, 9, 5, 8, 5, 4, 3, 7, 9, 8, 1, 2, 2, 8, 9, 3, 0, 8, 4, 0, 2, 0, 1, 4, 1, 8, 5, 5, 7, 9, 8, 3, 7, 9, 1, 5, 6, 9, 8, 7, 2, 0, 9, 0, 8, 5, 9, 4, 2, 9, 8, 1, 9, 1, 8, 3, 7, 6, 4, 2, 3, 7, 0, 3, 5, 8, 8, 8, 7, 9, 6, 2, 7, 4, 5, 7, 6, 7, 1, 7, 3, 6, 8, 2, 6, 6, 7, 1, 5, 9, 7, 1, 7, 0, 1, 6, 3, 3, 9, 0, 1, 2, 3, 2, 2, 5, 4, 9, 8, 7, 4, 4, 9, 7, 6, 7, 7, 1, 2, 3, 5, 1, 9, 0, 3, 3, 1, 5, 6, 6, 2, 4, 6, 8, 8, 9, 6, 6, 1, 0, 7, 5, 8, 2, 1, 5, 8, 1, 4, 7, 5, 0, 3, 9, 9, 5, 2, 8, 4, 1, 9, 0, 4, 4, 8, 2, 9, 0, 7, 9, 8, 7, 1, 3, 2, 9, 9, 5, 9, 7, 6, 7, 7, 1, 1, 2, 4, 2, 0, 6, 8, 7, 6, 2, 2, 9, 8, 2, 4, 2, 0, 5, 8, 6, 8, 2, 7, 7, 3, 1, 8, 1, 6, 5, 9, 7, 8, 9, 6, 4, 8, 1, 9, 4, 0, 4, 1, 4, 3, 6, 2, 2, 7, 0, 0, 7, 0, 7, 4, 3, 6, 7, 7, 4, 5, 4, 3, 5, 5, 4, 7, 1, 0, 7, 7, 1, 6, 5, 0, 7, 7, 4, 6, 1, 8, 5, 9, 3, 5, 6, 2, 2, 7, 3, 5, 8, 1, 0, 6, 8, 7, 8, 8, 5, 7, 5, 4, 9, 7, 3, 3, 8, 8, 3, 9, 4, 7, 2, 0, 8, 0, 7, 3, 3, 2, 5, 2, 4, 4, 0, 4, 8, 2, 4, 0, 6, 4, 5, 6, 0, 8, 8, 0, 6, 1, 1, 6, 1, 4, 2, 1, 1, 2, 4, 4, 5, 5, 8, 8, 5, 1, 8, 2, 3, 3, 9, 6, 6, 5, 0, 7, 3, 3, 2, 7, 4, 5, 6, 0, 2, 1, 8, 1, 0, 9, 3, 1, 0, 5, 4, 2, 3, 3, 6, 7, 6, 0, 0, 5, 7, 4, 7, 7, 0, 6, 1, 3, 9, 0, 9, 0, 3, 8, 4, 8, 8, 4, 1, 0, 2, 2, 4, 1, 1, 2, 4, 3, 4, 1, 4, 7, 1, 0, 0, 9, 0, 4, 2, 8, 8, 5, 5, 0, 4, 0, 8, 6, 2, 5, 9, 2, 9, 1, 1, 5, 4, 7, 5, 8, 6, 2, 1, 5, 5, 3, 4, 1, 8, 9, 9, 8, 9, 8, 6, 8, 5, 8, 9, 4, 6, 2, 6, 3, 7, 4, 0, 0, 1, 7, 5, 1, 5, 9, 3, 1, 6, 8, 7, 3, 6, 9, 1, 2, 0, 1, 7, 2, 6, 1, 9, 0, 0, 8, 9, 9, 2, 8, 6, 2, 5, 6, 0, 3, 3, 0, 7, 4, 7, 5, 0, 1, 6, 8, 8, 1, 2, 1, 5, 4, 5, 9, 6, 7, 1, 0, 6, 9, 2, 7, 7, 3, 9, 9, 1, 9, 7, 0, 1, 3, 5, 4, 6, 3, 8, 8, 0, 4, 8, 3, 6, 7, 0, 0, 4, 5, 2, 6, 8, 4, 9, 9, 9, 2, 0, 4, 2, 8, 1, 1, 0, 0, 3, 7, 4, 1, 1, 9, 7, 7, 4, 6, 8, 6, 0, 2, 8, 5, 3, 5, 3, 5, 7, 9, 8, 4, 4, 3, 1, 4, 8, 3, 6, 5, 3, 0, 8, 9, 5, 7, 6, 2, 0, 4, 9, 9, 0, 5, 2, 3, 6, 1, 1, 0, 2, 8, 2, 1, 1, 7, 5, 2, 3, 4, 1, 2, 9, 2, 1, 3, 4, 8, 9, 0, 0, 4, 9, 0, 2, 2, 0, 6, 8, 7, 3, 3, 8, 9, 0, 2, 5, 3, 6, 1, 3, 9, 5, 0, 5, 4, 4, 0, 1, 1, 6, 1, 7, 9, 9, 6, 2, 4, 3, 8, 3, 4, 7, 0, 2, 8, 4, 8, 3, 8, 8, 8, 3, 3, 5, 7, 7, 0, 4, 1, 5, 9, 7, 0, 6, 8, 4, 9, 0, 1, 8, 9, 6, 3, 9, 2, 4, 4, 0, 3, 3, 5, 4, 5, 1, 1, 8, 2, 2, 9, 3, 7, 8, 9, 2, 3, 1, 7, 3, 2, 3, 0, 1, 9, 5, 5, 3, 4, 5, 2, 0, 0, 3, 1, 3, 4, 7, 4, 2, 8, 4, 8, 9, 9, 4, 2, 4, 3, 6, 4, 6, 4, 6, 6, 3, 8, 7, 4, 8, 0, 5, 9, 3, 9, 0, 7, 5, 1, 9, 7, 9, 1, 8, 4, 2, 1, 6, 4, 3, 0, 1, 4, 8, 6, 1, 7, 1, 3, 5, 4, 3, 3, 9, 7, 8, 2, 5, 5, 4, 5, 4, 5, 7, 2, 5, 5, 1, 7, 7, 8, 3, 6, 0, 2, 5, 2, 3, 7, 4, 2, 1, 6, 8, 6, 8, 3, 2, 7, 7, 9, 7, 1, 4, 7, 4, 6, 1, 7, 3, 0, 0, 6, 6, 8, 6, 6, 0, 3, 4, 7, 4, 9, 4, 9, 9, 3, 4, 1, 4, 0, 3, 7, 1, 2, 2, 8, 4, 7, 8, 5, 5, 6, 5, 6, 0, 6, 4, 9, 3, 2, 7, 3, 8, 3, 9, 4, 1, 6, 9, 9, 4, 3, 9, 8, 1, 6, 9, 5, 9, 0, 9, 7, 2, 2, 4, 2, 6, 4, 8, 1, 9, 5, 6, 5, 1, 8, 6, 6, 7, 6, 5, 0, 2, 7, 6, 1, 2, 3, 1, 6, 4, 9, 0, 3, 9, 1, 0, 5, 3, 1, 6, 9, 8, 9, 0, 6, 1, 6, 2, 3, 5, 6, 9, 0, 7, 2, 4, 0, 3, 6, 8, 6, 9, 1, 9, 0, 6, 4, 5, 9, 5, 4, 1, 9, 2, 0, 7, 3, 5, 1, 8, 3, 0, 5, 2, 8, 8, 3, 9, 6, 0, 3, 5, 3, 4, 1, 5, 0, 7, 3, 9, 4, 5, 3, 1, 4, 2, 4, 9, 9, 7, 1, 7, 0, 1, 2, 1, 5, 3, 8, 4, 1, 5, 1, 9, 9, 7, 0, 1, 7, 6, 2, 6, 5, 0, 3, 1, 3, 8, 9, 9, 0, 8, 8, 7, 9, 2, 9, 1, 3, 6, 7, 6, 0, 8, 6, 2, 4, 2, 3, 5, 5, 4, 1, 6, 7, 1, 6, 1, 7, 1, 6, 2, 3, 0, 4, 2, 9, 7, 5, 5, 6, 0, 8, 8, 1, 1, 3, 5, 6, 5, 3, 8, 7, 5, 0, 7, 7, 5, 7, 1, 9, 9, 1, 9, 9, 3, 5, 5, 3, 0, 3, 0, 6, 6, 5, 6, 8, 9, 4, 5, 1, 1, 2, 7, 9, 0, 1, 2, 5, 4, 4, 7, 4, 8, 3, 3, 5, 3, 5, 7, 0, 1, 2, 9, 8, 1, 7, 3, 5, 9, 1, 9, 1, 1, 3, 6, 7, 4, 8, 3, 5, 6, 7, 0, 1, 7, 7, 2, 3, 3, 5, 1, 7, 6, 8, 4, 4, 5, 7, 3, 4, 7, 7, 3, 6, 0, 7, 2, 6, 7, 4, 1, 8, 0, 2, 2, 1, 5, 4, 0, 9, 3, 4, 4, 2, 3, 8, 5, 0, 0, 4, 6, 3, 9, 2, 0, 5, 7, 5, 5, 1, 7, 3, 1, 6, 7, 9, 0, 1, 2, 1, 4, 6, 1, 5, 9, 5, 0, 4, 9, 4, 9, 7, 1, 6, 8, 0, 6, 5, 0, 8, 1, 7, 5, 6, 9, 3, 2, 3, 9, 8, 6, 1, 0, 9, 0, 9, 8, 7, 7, 5, 2, 3, 5, 5, 7, 8, 7, 6, 9, 1, 9, 8, 6, 5, 6, 7, 5, 6, 7, 2, 5, 9, 6, 6, 7, 0, 1, 0, 1, 3, 2, 5, 6, 1, 2, 5, 1, 9, 9, 8, 6, 8, 6, 8, 9, 0, 4, 0, 3, 3, 6, 4, 9, 9, 7, 2, 3, 5, 6, 4, 6, 0, 3, 7, 5, 0, 2, 9, 2, 7, 2, 9, 2, 4, 0, 6, 6, 3, 4, 5, 5, 9, 1, 1, 4, 4, 3, 5, 4, 8, 0, 0, 3, 9, 4, 7, 4, 2, 8, 3, 6, 3, 1, 9, 6, 3, 8, 3, 8, 4, 7, 5, 7, 5, 3, 1, 2, 6, 1, 3, 2, 0, 7, 5, 0, 0, 0, 1, 4, 3, 5, 8, 4, 3, 1, 7, 1, 0, 4, 2, 4, 1, 4, 0, 1, 2, 1, 7, 7, 9, 8, 7, 5, 4, 0, 9, 0, 0, 8, 2, 0, 0, 2, 4, 8, 6, 2, 4, 6, 3, 5, 1, 5, 3, 7, 2, 2, 9, 8, 0, 0, 0, 3, 4, 4, 6, 1, 6, 7, 4, 4, 3, 9, 4, 0, 8, 0, 4, 6, 5, 7, 9, 7, 0, 5, 7, 7, 3, 1, 9, 3, 0, 9, 5, 3, 7, 9, 4, 4, 1, 7, 7, 1, 4, 1, 2, 8, 7, 0, 0, 4, 7, 2, 9, 7, 6, 9, 3, 5, 8, 0, 3, 6, 8, 3, 2, 4, 7, 1, 1, 3, 9, 7, 5, 1, 0, 8, 7, 0, 1, 6, 9, 3, 2, 7, 7, 8, 1, 0, 3, 4, 6, 7, 5, 2, 0, 1, 5, 5, 1, 4, 1, 3, 0, 8, 6, 2, 1, 3, 6, 4, 1, 9, 0, 4, 1, 0, 1, 9, 8, 6, 9, 2, 4, 7, 2, 2, 7, 4, 9, 1, 3, 2, 6, 3, 4, 4, 9, 4, 8, 2, 6, 6, 1, 6, 3, 6, 5, 8, 4, 6, 7, 1, 9, 3, 6, 7, 6, 0, 7, 1, 9, 5, 2, 6, 7, 7, 6, 5, 9, 1, 5, 6, 0, 2, 0, 9, 1, 8, 3, 5, 0, 0, 0, 5, 7, 7, 8, 5, 5, 5, 1, 6, 1, 5, 1, 0, 6, 2, 3, 2, 1, 7, 5, 1, 9, 8, 3, 6, 9, 7, 3, 0, 2, 3, 9, 4, 4, 3, 9, 6, 8, 6, 6, 8, 5, 4, 3, 6, 7, 7, 4, 3, 9, 6, 2, 4, 0, 1, 3, 6, 4, 9, 2, 6, 0, 3, 8, 7, 5, 3, 3, 8, 3, 2, 6, 3, 6, 2, 7, 4, 5, 7, 9, 0, 0, 6, 7, 2, 8, 5, 5, 7, 5, 5, 9, 4, 6, 4, 7, 3, 3, 6, 4, 1, 6, 3, 1, 6, 7, 0, 5, 0, 1, 9, 7, 3, 5, 2, 3, 9, 5, 6, 4, 0, 0, 0, 8, 0, 3, 2, 4, 5, 3, 7, 9, 6, 9, 3, 1, 2, 6, 7, 4, 5, 1, 3, 7, 6, 9, 5, 8, 5, 8, 5, 8, 5, 6, 5, 0, 8, 3, 8, 1, 8, 1, 5, 0, 9, 8, 6, 3, 6, 3, 4, 4, 7, 4, 7, 4, 3, 2, 4, 5, 5, 7, 5, 4, 5, 8, 0, 5, 4, 0, 5, 4, 3, 3, 2, 4, 2, 9, 4, 8, 8, 6, 2, 6, 1, 7, 0, 4, 3, 8, 5, 9, 7, 6, 7, 1, 0, 2, 3, 5, 6, 7, 1, 6, 2, 8, 3, 7, 2, 5, 7, 5, 7, 7, 1, 7, 4, 3, 3, 4, 0, 4, 2, 7, 0, 2, 2, 6, 6, 2, 5, 2, 6, 0, 6, 1, 2, 9, 0, 0, 1, 5, 5, 1, 6, 7, 8, 5, 6, 3, 3, 6, 0, 9, 9, 2, 2, 6, 1, 4, 6, 2, 5, 7, 8, 8, 5, 6, 4, 3, 2, 3, 4, 4, 4, 8, 9, 2, 6, 0, 9, 7, 9, 8, 7, 7, 3, 8, 2, 9, 3, 5, 7, 5, 8, 7, 3, 7, 0, 7, 1, 6, 2, 4, 0, 0, 2, 9, 8, 2, 8, 7, 7, 5, 5, 0, 1, 2, 9, 6, 1, 0, 1, 0, 6, 5, 0, 5, 7, 4, 4, 8, 3, 5, 3, 7, 2, 5, 8, 3, 5, 7, 3, 7, 0, 5, 4, 5, 6, 9, 3, 5, 3, 8, 2, 4, 2, 2, 6, 7, 6, 0, 5, 5, 8, 4, 5, 6, 1, 3, 5, 4, 7, 3, 0, 7, 2, 0, 1, 2, 4, 9, 6, 4, 5, 9, 7, 7, 6, 7, 4, 3, 1, 6, 9, 4, 8, 0, 3, 1, 6, 4, 4, 2, 1, 4, 6, 3, 0, 8, 9, 7, 6, 8, 4, 8, 1, 4, 5, 9, 4, 7, 1, 4, 5, 3, 1, 2, 6, 4, 7, 1, 5, 9, 3, 1, 4, 8, 7, 7, 0, 4, 3, 4, 6, 7, 7, 5, 4, 4, 4, 3, 6, 6, 1, 9, 9, 7, 9, 4, 3, 2, 9, 8, 5, 0, 6, 9, 0, 9, 7, 8, 5, 4, 4, 9, 4, 2, 6, 6, 9, 9, 7, 9, 9, 0, 5, 1, 1, 8, 6, 9, 9, 5, 6, 5, 5, 9, 7, 9, 4, 5, 4, 3, 3, 9, 8, 8, 3, 4, 8, 4, 0, 4, 0, 7, 2, 8, 0, 2, 0, 7, 4, 0, 6, 3, 3, 1, 7, 4, 6, 5, 0, 4, 9, 5, 6, 6, 3, 0, 5, 2, 6, 3, 3, 8, 0, 8, 5, 4, 2, 9, 5, 0, 5, 4, 8, 2, 7, 6, 5, 7, 8, 2, 0, 1, 8, 2, 4, 8, 4, 3, 0, 4, 0, 1, 9, 3, 0, 3, 6, 5, 5, 2, 8, 5, 0, 8, 7, 5, 2, 4, 3, 7, 0, 2, 3, 1, 0, 0, 2, 1, 2, 1, 4, 6, 7, 1, 0, 5, 2, 5, 9, 2, 5, 6, 7, 1, 9, 3, 6, 1, 0, 2, 9, 4, 2, 9, 3, 8, 2, 9, 8, 5, 1, 0, 1, 5, 2, 5, 6, 8, 8, 3, 5, 0, 4, 1, 3, 7, 0, 3, 3, 9, 2, 3, 9, 9, 8, 5, 9, 7, 2, 0, 9, 4, 7, 1, 7, 6, 4, 4, 8, 9, 0, 7, 1, 2, 4, 0, 3, 7, 5, 1, 9, 3, 5, 2, 4, 1, 1, 3, 3, 9, 2, 5, 8, 0, 8, 1, 5, 1, 5, 9, 0, 9, 2, 4, 0, 6, 9, 1, 1, 3, 4, 9, 5, 3, 3, 3, 3, 4, 1, 5, 9, 8, 7, 4, 8, 7, 3, 5, 2, 5, 8, 9, 7, 2, 0, 0, 7, 5, 3, 5, 7, 4, 6, 2, 8, 2, 7, 7, 6, 1, 3, 8, 6, 2, 0, 4, 4, 8, 6, 4, 0, 2, 5, 4, 1, 2, 5, 4, 6, 9, 5, 0, 5, 2, 0, 8, 2, 6, 4, 7, 9, 5, 7, 2, 6, 2, 1, 9, 9, 7, 2, 5, 1, 8, 1, 6, 3, 0, 8, 8, 5, 6, 9, 9, 9, 6, 3, 0, 8, 8, 5, 3, 3, 1, 1, 0, 7, 0, 6, 0, 4, 4, 6, 5, 3, 2, 9, 6, 6, 7, 9, 7, 7, 0, 8, 4, 2, 7, 7, 7, 4, 0, 1, 6, 0, 5, 3, 0, 2, 4, 9, 7, 3, 3, 2, 8, 8, 5, 3, 8, 0, 8, 0, 0, 0, 2, 2, 7, 0, 7, 7, 7, 2, 2, 0, 4, 0, 3, 7, 8, 4, 7, 9, 6, 1, 1, 6, 9, 3, 8, 9, 5, 8, 3, 9, 4, 3, 7, 5, 5, 2, 7, 5, 7, 9, 6, 3, 0, 8, 4, 5, 6, 1, 0, 4, 8, 4, 7, 1, 3, 2, 0, 9, 1, 8, 8, 6, 8, 1, 7, 1, 0, 9, 7, 6, 4, 5, 8, 2, 1, 2, 5, 8, 1, 1, 8, 8, 0, 9, 0, 0, 4, 3, 3, 5, 6, 6, 3, 1, 4, 4, 7, 8, 0, 1, 4, 8, 4, 6, 2, 2, 2, 6, 3, 4, 0, 8, 1, 3, 8, 3, 8, 9, 1, 6, 1, 9, 8, 2, 0, 4, 7, 4, 0, 0, 7, 6, 8, 9, 8, 6, 2, 8, 8, 0, 1, 1, 0, 7, 7, 4, 4, 7, 7, 2, 6, 6, 7, 4, 5, 4, 0, 9, 4, 7, 2, 5, 3, 2, 2, 7, 6, 2, 6, 4, 9, 6, 8, 3, 8, 5, 5, 2, 3, 4, 5, 2, 7, 5, 1, 5, 3, 7, 8, 8, 9, 6, 0, 9, 2, 6, 0, 0, 1, 4, 1, 3, 5, 1, 8, 9, 6, 2, 6, 9, 5, 6, 5, 9, 1, 4, 2, 8, 9, 5, 4, 7, 0, 3, 7, 1, 6, 9, 1, 1, 4, 0, 5, 1, 6, 3, 0, 2, 5, 5, 5, 2, 8, 2, 3, 1, 6, 2, 7, 0, 8, 9, 2, 6, 4, 7, 5, 5, 8, 8, 7, 8, 5, 7, 4, 4, 0, 0, 7, 0, 4, 0, 4, 4, 2, 5, 4, 0, 7, 7, 7, 0, 4, 6, 2, 9, 1, 1, 5, 0, 9, 1, 0, 6, 5, 3, 0, 9, 0, 6, 2, 0, 4, 1, 6, 7, 6, 1, 0, 4, 6, 0, 4, 4, 2, 7, 6, 5, 3, 5, 9, 4, 5, 2, 0, 5, 7, 2, 3, 9, 4, 5, 8, 1, 9, 3, 1, 8, 5, 8, 6, 6, 3, 4, 0, 2, 3, 2, 6, 1, 8, 2, 1, 3, 6, 2, 2, 3, 3, 5, 0, 2, 1, 2, 8, 0, 8, 2, 2, 7, 3, 5, 9, 8, 3, 6, 1, 0, 8, 6, 3, 5, 8, 9, 4, 8, 0, 0, 2, 9, 1, 8, 3, 7, 2, 8, 0, 9, 4, 8, 9, 4, 8, 9, 5, 4, 8, 1, 5, 5, 7, 2, 5, 8, 8, 1, 2, 3, 1, 5, 0, 2, 3, 0, 8, 2, 2, 8, 7, 3, 5, 3, 9, 6, 3, 5, 1, 1, 7, 7, 3, 3, 8, 9, 6, 0, 8, 0, 6, 6, 4, 6, 9, 1, 1, 7, 0, 6, 8, 9, 0, 6, 9, 0, 1, 1, 7, 2, 1, 0, 4, 5, 0, 3, 6, 3, 3, 8, 1, 8, 1, 3, 1, 5, 4, 5, 1, 8, 9, 1, 3, 1, 7, 2, 9, 8, 9, 4, 6, 0, 9, 4, 0, 4, 6, 2, 1, 3, 0, 8, 5, 6, 0, 3, 4, 6, 9, 5, 7, 9, 0, 3, 6, 5, 7, 0, 5, 1, 2, 2, 9, 7, 0, 0, 1, 4, 4, 5, 5, 9, 6, 3, 6, 2, 6, 9, 3, 2, 3, 2, 4, 9, 5, 2, 1, 6, 6, 4, 7, 6, 3, 3, 8, 1, 4, 6, 4, 4, 5, 6, 2, 0, 5, 2, 7, 5, 2, 5, 2, 5, 9, 0, 6, 7, 9, 8, 3, 2, 1, 4, 3, 4, 5, 5, 6, 8, 6, 0, 8, 9, 8, 0, 7, 7, 6, 6, 7, 5, 9, 8, 7, 9, 5, 6, 0, 4, 8, 2, 0, 9, 1, 3, 9, 8, 3, 7, 4, 5, 0, 2, 1, 9, 1, 0, 5, 8, 4, 7, 3, 1, 4, 5, 3, 1, 0, 8, 8, 8, 2, 1, 3, 7, 3, 1, 6, 9, 1, 6, 0, 7, 7, 1, 3, 3, 3, 1, 0, 2, 7, 1, 2, 2, 9, 6, 3, 5, 9, 4, 8, 0, 4, 8, 0, 1, 3, 7, 0, 4, 7, 4, 8, 6, 4, 3, 9, 8, 2, 2, 8, 3, 1, 1, 2, 8, 2, 6, 9, 4, 8, 4, 4, 1, 5, 2, 6, 9, 2, 0, 7, 1, 8, 9, 3, 9, 9, 0, 7, 7, 5, 4, 2, 6, 4, 5, 7, 7, 8, 7, 2, 6, 2, 2, 4, 4, 0, 7, 1, 3, 9, 6, 0, 0, 2, 3, 8, 2, 2, 4, 3, 5, 2, 9, 1, 0, 0, 6, 5, 5, 7, 9, 9, 6, 5, 5, 0, 5, 7, 1, 6, 6, 4, 1, 4, 4, 1, 5, 0, 0, 4, 5, 8, 4, 8, 3, 0, 5, 0, 5, 3, 1, 6, 7, 0, 9, 1, 5, 7, 6, 5, 5, 5, 6, 0, 0, 1, 7, 5, 1, 9, 2, 4, 1, 3, 7, 8, 2, 0, 9, 6, 6, 0, 6, 5, 8, 2, 7, 4, 0, 2, 7, 7, 8, 8, 7, 0, 4, 9, 1, 4, 4, 3, 5, 4, 6, 2, 3, 1, 0, 3, 3, 3, 6, 3, 1, 2, 8, 9, 7, 9, 3, 8, 7, 3, 1, 7, 7, 3, 2, 2, 8, 9, 5, 9, 2, 1, 7, 4, 4, 0, 5, 7, 1, 5, 4, 0, 8, 4, 9, 8, 7, 8, 4, 2, 3, 4, 0, 5, 4, 1, 8, 2, 5, 4, 5, 2, 5, 3, 7, 9, 7, 1, 4, 1, 3, 1, 4, 5, 5, 1, 7, 1, 3, 0, 1, 2, 5, 7, 0, 6, 3, 5, 7, 5, 5, 8, 9, 4, 6, 3, 6, 6, 8, 2, 6, 4, 8, 4, 1, 3, 1, 2, 3, 3, 0, 1, 6, 4, 2, 8, 2, 4, 3, 1, 4, 4, 4, 4, 1, 5, 5, 7, 6, 5, 4, 5, 6, 5, 6, 2, 4, 7, 7, 4, 6, 5, 0, 2, 3, 9, 2, 3, 8, 0, 7, 0, 6, 8, 1, 2, 8, 9, 1, 5, 4, 2, 3, 5, 5, 3, 6, 5, 0, 3, 2, 1, 3, 3, 7, 7, 4, 9, 4, 3, 9, 5, 1, 7, 6, 6, 4, 8, 5, 1, 2, 8, 4, 5, 3, 3, 3, 0, 4, 8, 7, 7, 9, 4, 8, 4, 5, 9, 1, 8, 3, 1, 3, 8, 0, 3, 5, 4, 6, 9, 2, 7, 2, 0, 5, 2, 9, 7, 5, 0, 7, 0, 3, 5, 5, 3, 8, 7, 7, 9, 6, 5, 8, 9, 0, 1, 9, 4, 0, 0, 1, 7, 2, 2, 8, 5, 9, 8, 2, 8, 0, 6, 6, 8, 6, 9, 6, 1, 1, 5, 3, 5, 0, 7, 6, 1, 4, 4, 1, 1, 8, 1, 1, 2, 3, 4, 9, 9, 5, 2, 7, 3, 3, 6, 9, 6, 9, 8, 8, 6, 7, 4, 7, 2, 3, 8, 0, 9, 0, 7, 8, 1, 2, 3, 2, 4, 2, 9, 0, 3, 8, 9, 6, 5, 5, 2, 4, 1, 0, 6, 1, 8, 4, 5, 5, 5, 0, 8, 9, 0, 5, 7, 9, 6, 3, 4, 6, 4, 9, 7, 1, 2, 5, 2, 8, 0, 2, 2, 9, 8, 1, 9, 7, 7, 3, 1, 4, 1, 1, 3, 8, 8, 1, 9, 3, 8, 9, 5, 1, 1, 6, 2, 7, 2, 6, 2, 6, 9, 6, 0, 1, 3, 9, 3, 8, 8, 8, 2, 9, 1, 2, 6, 0, 5, 0, 7, 7, 7, 9, 4, 5, 0, 2, 3, 5, 5, 8, 9, 1, 2, 7, 1, 3, 4, 6, 9, 1, 0, 7, 1, 9, 5, 8, 1, 9, 9, 7, 9, 8, 3, 0, 2, 6, 0, 2, 2, 4, 0, 8, 4, 8, 1, 2, 7, 2, 7, 9, 5, 2, 2, 9, 2, 6, 5, 7, 2, 5, 6, 5, 1, 8, 2, 6, 8, 6, 3, 0, 8, 0, 0, 9, 9, 6, 8, 0, 6, 6, 0, 7, 9, 8, 0, 5, 0, 9, 6, 0, 4, 7, 1, 7, 8, 8, 2, 3, 9, 6, 5, 5, 3, 1, 5, 3, 0, 2, 5, 2, 7, 3, 8, 4, 4, 6, 1, 9, 4, 1, 7, 0, 1, 4, 3, 0, 2, 9, 4, 5, 0, 3, 4, 7, 2, 3, 0, 1, 3, 7, 9, 9, 0, 7, 5, 6, 7, 1, 2, 2, 7, 4, 6, 8, 4, 9, 8, 4, 9, 2, 3, 4, 0, 2, 5, 6, 0, 5, 3, 5, 8, 3, 7, 4, 9, 5, 6, 3, 8, 6, 9, 8, 5, 5, 8, 3, 5, 9, 0, 4, 2, 0, 5, 9, 9, 3, 8, 0, 6, 0, 2, 3, 7, 0, 0, 6, 9, 1, 5, 2, 2, 7, 9, 3, 9, 3, 5, 2, 2, 2, 8, 8, 5, 0, 0, 7, 0, 3, 1, 6, 5, 0, 9, 2, 6, 7, 4, 2, 0, 0, 5, 3, 3, 2, 6, 4, 2, 7, 8, 0, 1, 0, 1, 3, 6, 4, 8, 0, 6, 0, 9, 1, 6, 2, 1, 0, 1, 3, 0, 3, 7, 9, 9, 3, 7, 5, 7, 1, 6, 6, 1, 1, 1, 4, 4, 2, 1, 7, 0, 1, 2, 1, 1, 3, 2, 6, 9, 1, 3, 2, 0, 8, 7, 3, 4, 6, 4, 6, 9, 4, 8, 9, 3, 0, 5, 7, 2, 0, 2, 9, 9, 3, 8, 7, 1, 1, 2, 2, 2, 5, 9, 1, 2, 6, 1, 2, 1, 8, 9, 2, 3, 1, 9, 9, 4, 4, 5, 5, 0, 3, 3, 7, 1, 7, 7, 9, 8, 6, 3, 5, 5, 1, 6, 2, 7, 8, 4, 3, 3, 5, 9, 6, 8, 5, 1, 0, 6, 7, 0, 9, 6, 2, 0, 8, 7, 1, 2, 6, 9, 1, 6, 4, 7, 1, 9, 0, 0, 5, 2, 8, 3, 8, 2, 8, 4, 0, 8, 3, 6, 1, 2, 3, 0, 5, 0, 4, 1, 7, 2, 0, 1, 3, 9, 1, 6, 1, 6, 1, 2, 8, 7, 0, 9, 5, 8, 0, 0, 1, 7, 9, 7, 1, 9, 2, 1, 9, 4, 3, 6, 0, 2, 0, 0, 9, 9, 8, 9, 4, 5, 4, 3, 0, 7, 8, 7, 3, 7, 5, 4, 6, 5, 9, 5, 2, 4, 2, 7, 9, 6, 7, 4, 7, 1, 2, 3, 1, 1, 3, 6, 8, 3, 7, 7, 0, 8, 1, 5, 2, 5, 5, 3, 6, 3, 5, 9, 8, 4, 6, 8, 0, 4, 1, 7, 8, 4, 9, 7, 2, 6, 3, 8, 8, 6, 7, 3, 8, 1, 1, 5, 3, 7, 9, 9, 9, 8, 5, 9, 9, 6, 8, 8, 4, 8, 1, 0, 1, 8, 8, 6, 5, 9, 0, 6, 1, 2, 6, 6, 3, 5, 6, 5, 5, 3, 3, 6, 8, 9, 4, 4, 3, 8, 3, 6, 0, 8, 5, 7, 8, 4, 6, 5, 3, 1, 8, 3, 0, 4, 4, 3, 3, 5, 3, 3, 2, 7, 7, 8, 2, 0, 5, 5, 6, 1, 1, 3, 9, 9, 3, 6, 7, 1, 8, 3, 9, 8, 7, 8, 8, 0, 3, 2, 4, 8, 7, 5, 7, 1, 8, 7, 3, 5, 4, 4, 3, 8, 6, 1, 1, 6, 3, 2, 2, 8, 9, 8, 3, 3, 8, 1, 1, 0, 5, 2, 0, 5, 0, 5, 8, 6, 3, 9, 6, 6, 3, 9, 4, 8, 3, 4, 3, 1, 1, 2, 9, 7, 8, 5, 5, 8, 6, 9, 0, 8, 3, 5, 1, 3, 3, 5, 5, 3, 8, 1, 4, 6, 4, 2, 4, 3, 8, 9, 6, 6, 6, 5, 5, 2, 7, 7, 4, 4, 9, 3, 8, 3, 7, 7, 8, 5, 3, 9, 1, 6, 7, 3, 3, 3, 8, 5, 6, 1, 3, 7, 9, 6, 1, 6, 4, 9, 0, 5, 7, 4, 9, 1, 0, 0, 2, 7, 8, 3, 2, 7, 6, 1, 6, 6, 4, 4, 2, 1, 8, 4, 4, 7, 8, 5, 8, 9, 4, 3, 2, 2, 9, 3, 0, 1, 1, 1, 1, 6, 8, 7, 1, 3, 0, 4, 5, 0, 3, 0, 6, 2, 0, 9, 8, 6, 8, 5, 8, 2, 9, 6, 0, 6, 1, 8, 7, 3, 2, 2, 6, 5, 6, 9, 2, 5, 4, 9, 8, 5, 3, 9, 3, 5, 7, 1, 8, 5, 8, 6, 2, 5, 1, 3, 0, 4, 1, 9, 5, 4, 9, 2, 1, 4, 2, 5, 9, 8, 7, 2, 1, 6, 9, 7, 3, 6, 5, 8, 0, 2, 2, 4, 9, 0, 5, 5, 4, 2, 3, 1, 0, 3, 0, 4, 4, 9, 1, 3, 3, 0, 2, 1, 1, 0, 4, 1, 9, 4, 8, 1, 1, 1, 5, 9, 8, 1, 6, 7, 2, 9, 9, 7, 8, 8, 1, 9, 7, 8, 9, 1, 6, 6, 3, 3, 1, 3, 0, 8, 8, 3, 6, 6, 7, 1, 0, 7, 6, 4, 8, 2, 0, 6, 6, 8, 6, 3, 1, 1, 8, 6, 7, 0, 5, 4, 3, 2, 1, 7, 8, 2, 0, 1, 7, 4, 8, 7, 6, 6, 7, 0, 6, 4, 9, 2, 3, 2, 1, 3, 8, 6, 8, 1, 9, 6, 7, 6, 5, 0, 6, 0, 1, 3, 1, 1, 5, 3, 4, 3, 3, 8, 1, 6, 6, 1, 8, 8, 6, 2, 7, 4, 6, 8, 9, 3, 3, 5, 5, 3, 1, 4, 1, 9, 5, 1, 7, 7, 7, 5, 2, 3, 3, 6, 6, 6, 4, 0, 7, 1, 7, 3, 0, 8, 1, 2, 4, 1, 2, 2, 4, 9, 8, 2, 8, 7, 6, 3, 4, 7, 2, 3, 1, 5, 3, 0, 4, 3, 4, 9, 4, 7, 9, 1, 7, 8, 3, 1, 8, 3, 2, 5, 7, 2, 7, 9, 6, 8, 6, 8, 6, 5, 9, 0, 4, 8, 5, 6, 4, 3, 8, 0, 4, 8, 6, 7, 2, 7, 1, 7, 4, 1, 2, 4, 2, 2, 8, 7, 2, 2, 6, 7, 5, 6, 8, 9, 9, 6, 5, 2, 9, 8, 7, 2, 3, 3, 7, 4, 3, 2, 1, 9, 0, 1, 5, 3, 2, 6, 5, 9, 1, 5, 4, 3, 6, 2, 8, 9, 7, 8, 0, 8, 9, 1, 2, 5, 7, 2, 0, 6, 6, 1, 6, 3, 1, 5, 0, 3, 7, 4, 6, 5, 6, 4, 8, 3, 4, 5, 5, 0, 6, 6, 7, 5, 0, 9, 9, 6, 1, 0, 4, 6, 3, 6, 9, 3, 6, 6, 8, 2, 1, 0, 1, 9, 3, 7, 4, 3, 0, 2, 7, 6, 4, 3, 0, 8, 2, 0, 0, 9, 6, 6, 6, 8, 7, 4, 1, 8, 1, 2, 2, 4, 8, 5, 2, 6, 5, 3, 9, 1, 0, 7, 2, 4, 4, 0, 0, 6, 2, 2, 4, 0, 5, 9, 7, 1, 8, 4, 5, 5, 9, 8, 5, 7, 8, 0, 9, 8, 9, 1, 6, 3, 8, 0, 3, 4, 4, 8, 4, 8, 9, 8, 6, 0, 0, 8, 2, 7, 4, 2, 5, 6, 0, 5, 8, 4, 1, 9, 0, 1, 4, 4, 8, 4, 9, 6, 0, 7, 7, 6, 8, 9, 6, 2, 0, 4, 9, 4, 9, 3, 9, 6, 6, 7, 0, 9, 7, 1, 8, 6, 0, 6, 7, 4, 1, 9, 4, 6, 7, 9, 8, 3, 9, 2, 1, 2, 7, 6, 1, 0, 0, 5, 6, 0, 4, 3, 2, 8, 8, 0, 6, 9, 5, 2, 8, 7, 0, 6, 5, 9, 7, 2, 3, 6, 9, 6, 2, 2, 4, 1, 0, 5, 0, 8, 9, 3, 5, 9, 3, 8, 1, 6, 3, 7, 5, 6, 2, 0, 2, 8, 2, 8, 7, 7, 8, 1, 0, 8, 9, 7, 0, 3, 8, 0, 5, 9, 5, 8, 4, 2, 0, 9, 2, 2, 4, 4, 9, 2, 2, 2, 5, 1, 3, 2, 0, 0, 4, 0, 6, 5, 8, 0, 5, 8, 6, 4, 8, 5, 2, 9, 7, 9, 7, 1, 0, 1, 9, 6, 9, 2, 7, 9, 4, 4, 0, 6, 2, 4, 1, 3, 7, 2, 8, 5, 9, 0, 3, 2, 3, 2, 7, 6, 3, 2, 5, 9, 0, 5, 9, 9, 8, 7, 7, 4, 8, 6, 5, 2, 3, 1, 0, 4, 1, 8, 8, 4, 9, 4, 4, 3, 3, 9, 2, 0, 1, 1, 8, 4, 4, 8, 3, 2, 9, 5, 7, 6, 2, 5, 4, 7, 3, 3, 9, 0, 1, 5, 9, 3, 7, 6, 0, 4, 2, 2, 5, 6, 3, 8, 9, 5, 6, 1, 4, 5, 4, 6, 7, 2, 1, 0, 2, 0, 4, 9, 8, 8, 9, 1, 1, 5, 0, 0, 8, 7, 1, 7, 4, 5, 4, 3, 3, 2, 0, 6, 6, 0, 1, 3, 9, 8, 3, 7, 8, 9, 4, 8, 9, 0, 9, 7, 1, 6, 2, 9, 5, 6, 9, 3, 9, 8, 7, 7, 1, 6, 5, 3, 1, 3, 1, 2, 7, 1, 8, 2, 0, 9, 7, 9, 8, 8, 6, 7, 3, 7, 1, 3, 9, 0, 9, 3, 6, 7, 2, 7, 3, 0, 5, 9, 7, 5, 5, 0, 6, 5, 1, 8, 2, 7, 5, 9, 0, 0, 0, 8, 8, 7, 3, 7, 8, 9, 3, 7, 9, 7, 8, 7, 9, 8, 5, 4, 8, 3, 7, 6, 3, 8, 2, 1, 9, 5, 7, 3, 9, 5, 5, 8, 7, 3, 5, 3, 5, 9, 7, 6, 7, 3, 6, 4, 3, 9, 4, 2, 1, 9, 6, 0, 2, 6, 7, 4, 7, 9, 0, 7, 4, 3, 5, 3, 1, 1, 2, 6, 8, 2, 1, 7, 8, 5, 9, 6, 1, 1, 5, 0, 6, 0, 9, 2, 6, 5, 8, 9, 5, 5, 6, 2, 9, 1, 5, 8, 8, 7, 1, 7, 3, 5, 4, 9, 7, 5, 2, 9, 9, 4, 7, 4, 1, 3, 8, 7, 9, 0, 4, 5, 7, 5, 2, 8, 7, 6, 9, 6, 9, 3, 8, 5, 6, 6, 9, 5, 7, 8, 0, 5, 0, 7, 4, 8, 2, 5, 1, 3, 2, 2, 6, 2, 1, 7, 4, 6, 3, 1, 3, 7, 2, 1, 3, 7, 0, 8, 4, 4, 5, 7, 9, 5, 4, 3, 9, 6, 8, 2, 3, 3, 1, 6, 1, 7, 0, 3, 4, 2, 9, 4, 5, 8, 2, 7, 0, 9, 6, 8, 0, 8, 2, 8, 5, 7, 7, 2, 2, 0, 0, 0, 7, 4, 1, 6, 6, 8, 8, 9, 0, 9, 0, 1, 3, 3, 0, 9, 6, 6, 2, 6, 3, 4, 0, 8, 4, 1, 4, 0, 6, 5, 0, 9, 9, 9, 9, 1, 2, 3, 5, 4, 2, 9, 6, 0, 9, 6, 6, 8, 0, 6, 1, 4, 6, 8, 0, 5, 4, 1, 2, 0, 9, 6, 4, 2, 4, 6, 5, 9, 7, 7, 4, 6, 5, 0, 1, 9, 0, 3, 1, 9, 0, 9, 7, 8, 6, 7, 6, 8, 2, 4, 5, 3, 0, 3, 2, 1, 7, 5, 9, 3, 4, 5, 7, 1, 5, 0, 1, 1, 1, 9, 7, 5, 4, 9, 7, 8, 1, 0, 2, 8, 5, 6, 7, 0, 1, 4, 8, 4, 4, 6, 6, 5, 8, 1, 8, 4, 6, 5, 9, 2, 2, 1, 4, 9, 1, 6, 7, 2, 0, 1, 7, 6, 5, 2, 2, 5, 6, 0, 9, 0, 1, 5, 3, 3, 5, 8, 7, 5, 6, 5, 8, 0, 5, 9, 4, 6, 5, 1, 1, 0, 3, 3, 9, 4, 8, 1, 7, 7, 9, 9, 4, 3, 6, 3, 2, 8, 2, 7, 6, 7, 0, 2, 1, 2, 9, 4, 6, 9, 6, 1, 0, 1, 8, 7, 0, 0, 4, 7, 4, 2, 6, 9, 5, 9, 0, 7, 4, 5, 8, 1, 4, 7, 9, 9, 8, 8, 6, 3, 7, 0, 8, 9, 6, 2, 4, 6, 2, 9, 7, 4, 6, 8, 5, 6, 1, 3, 5, 9, 9, 1, 3, 2, 0, 3, 0, 2, 0, 7, 3, 9, 3, 5, 7, 6, 5, 9, 5, 6, 1, 2, 4, 0, 2, 7, 8, 4, 4, 0, 9, 5, 9, 2, 9, 3, 2, 4, 3, 2, 2, 8, 8, 6, 8, 1, 6, 8, 9, 8, 2, 1, 4, 9, 1, 5, 7, 1, 6, 0, 1, 5, 2, 8, 1, 1, 3, 8, 1, 3, 1, 8, 5, 1, 9, 0, 3, 0, 4, 0, 5, 1, 2, 0, 4, 9, 5, 1, 2, 2, 7, 8, 7, 2, 4, 5, 3, 4, 0, 6, 1, 5, 9, 8, 0, 2, 0, 7, 6, 0, 5, 9, 7, 5, 0, 4, 6, 0, 6, 3, 6, 8, 1, 1, 8, 9, 7, 2, 9, 0, 2, 2, 9, 0, 6, 5, 7, 7, 9, 1, 7, 9, 8, 4, 5, 0, 8, 0, 2, 5, 2, 1, 4, 4, 8, 9, 7, 8, 3, 6, 6, 0, 1, 1, 1, 8, 1, 4, 4, 0, 7, 8, 2, 1, 2, 5, 4, 6, 0, 5, 7, 4, 4, 3, 9, 5, 8, 8, 0, 8, 7, 4, 1, 8, 4, 9, 5, 4, 1, 7, 7, 7, 7, 0, 3, 8, 3, 3, 0, 5, 7, 0, 8, 0, 0, 9, 2, 2, 3, 4, 8, 2, 2, 6, 3, 3, 6, 2, 9, 4, 0, 1, 7, 5, 5, 7, 3, 0, 4, 2, 0, 7, 5, 8, 0, 8, 2, 7, 0, 3, 5, 3, 8, 3, 5, 1, 7]\n"
          ],
          "name": "stdout"
        }
      ]
    },
    {
      "cell_type": "code",
      "metadata": {
        "colab": {
          "base_uri": "https://localhost:8080/"
        },
        "id": "bwzBKGbXSZ7y",
        "outputId": "f308ad93-a6a7-484d-e3b8-b16c4845e06f"
      },
      "source": [
        "\"\"\"Function to calculate accuracy,F1 score and confusion matrix\"\"\"\n",
        "def metrics(actual,predicted):\n",
        "    actual=np.array(actual)\n",
        "    predicted=np.array(predicted)\n",
        "    total_data=len(actual)\n",
        "    len_class= len(np.unique(actual))\n",
        "    cm= np.zeros((len_class,len_class),int) #confusion matrix\n",
        "    #print(cm.shape)\n",
        "    for i in range(total_data):\n",
        "      #print(actual[i],predicted[i])\n",
        "      #print(cm[actual[i]][predicted[i]])\n",
        "      cm[actual[i]][predicted[i]]=cm[actual[i]][predicted[i]]+1\n",
        "\n",
        "    # Accuracy\n",
        "    Accuracy=np.trace(np.array(cm))/total_data\n",
        "    print(\"Accuracy : \\n\", Accuracy)\n",
        "    print(\"Confusion Matrix : \\n\", cm)\n",
        "\n",
        "metrics(y_test,y_pred)"
      ],
      "execution_count": null,
      "outputs": [
        {
          "output_type": "stream",
          "text": [
            "Accuracy : \n",
            " 0.6308\n",
            "Confusion Matrix : \n",
            " [[647  32  26  18  40   5  12  12 164  44]\n",
            " [ 19 702   5  23   1   7   8  16  98 121]\n",
            " [ 95  18 415  60 142  47 153  40  28   2]\n",
            " [ 16  40  38 475  65 130 120  71  24  21]\n",
            " [ 24  13  54  33 586  24 127 103  24  12]\n",
            " [  9  21  35 154  45 534  74  90  16  22]\n",
            " [  8  13  36  53  60  29 777  10  12   2]\n",
            " [ 23  27  36  31 104  44  19 666  17  33]\n",
            " [ 48  53   5  14  13   2   3  10 809  43]\n",
            " [ 21 125   2  15   6  12   4  18 100 697]]\n"
          ],
          "name": "stdout"
        }
      ]
    },
    {
      "cell_type": "code",
      "metadata": {
        "colab": {
          "base_uri": "https://localhost:8080/"
        },
        "id": "8Qe-5NYnuFw6",
        "outputId": "320fa56d-9061-4787-c035-e93816c74c37"
      },
      "source": [
        "for i in range(10):\n",
        "  y_test_temp=[]\n",
        "  y_pred_temp=[]\n",
        "  for j in range(len(y_test)):\n",
        "    if(y_test[j]==i):\n",
        "      y_test_temp.append(1)\n",
        "    else:\n",
        "      y_test_temp.append(0)\n",
        "    if(y_pred[j]==i):\n",
        "      y_pred_temp.append(1)\n",
        "    else:\n",
        "      y_pred_temp.append(0)\n",
        "  metrics(y_test_temp,y_pred_temp)"
      ],
      "execution_count": null,
      "outputs": [
        {
          "output_type": "stream",
          "text": [
            "Accuracy : \n",
            " 0.9384\n",
            "Confusion Matrix : \n",
            " [[8737  263]\n",
            " [ 353  647]]\n",
            "Accuracy : \n",
            " 0.936\n",
            "Confusion Matrix : \n",
            " [[8658  342]\n",
            " [ 298  702]]\n",
            "Accuracy : \n",
            " 0.9178\n",
            "Confusion Matrix : \n",
            " [[8763  237]\n",
            " [ 585  415]]\n",
            "Accuracy : \n",
            " 0.9074\n",
            "Confusion Matrix : \n",
            " [[8599  401]\n",
            " [ 525  475]]\n",
            "Accuracy : \n",
            " 0.911\n",
            "Confusion Matrix : \n",
            " [[8524  476]\n",
            " [ 414  586]]\n",
            "Accuracy : \n",
            " 0.9234\n",
            "Confusion Matrix : \n",
            " [[8700  300]\n",
            " [ 466  534]]\n",
            "Accuracy : \n",
            " 0.9257\n",
            "Confusion Matrix : \n",
            " [[8480  520]\n",
            " [ 223  777]]\n",
            "Accuracy : \n",
            " 0.9296\n",
            "Confusion Matrix : \n",
            " [[8630  370]\n",
            " [ 334  666]]\n",
            "Accuracy : \n",
            " 0.9326\n",
            "Confusion Matrix : \n",
            " [[8517  483]\n",
            " [ 191  809]]\n",
            "Accuracy : \n",
            " 0.9397\n",
            "Confusion Matrix : \n",
            " [[8700  300]\n",
            " [ 303  697]]\n"
          ],
          "name": "stdout"
        }
      ]
    },
    {
      "cell_type": "code",
      "metadata": {
        "colab": {
          "base_uri": "https://localhost:8080/",
          "height": 621
        },
        "id": "Qe5T7OO5GYSB",
        "outputId": "2789320f-7684-4b38-c665-dd9456291ea4"
      },
      "source": [
        "import matplotlib.pyplot as plt\n",
        "import numpy as np\n",
        "plt.figure(figsize=(16,10))\n",
        "plt.plot(np.arange(1,21),train_loss,label='loss-train ')\n",
        "plt.plot(np.arange(1,21),val_loss,label='loss-Validation ') \n",
        "plt.xlabel(\"No. of Epochs\") \n",
        "plt.ylabel(\"Loss\")\n",
        "plt.title('Trainig and Testing Loss Vs Number of Epochs')\n",
        "plt.legend()\n",
        "plt.show()"
      ],
      "execution_count": null,
      "outputs": [
        {
          "output_type": "display_data",
          "data": {
            "image/png": "[encoded data removed]",
            "text/plain": [
              "<Figure size 1152x720 with 1 Axes>"
            ]
          },
          "metadata": {
            "tags": [],
            "needs_background": "light"
          }
        }
      ]
    },
    {
      "cell_type": "code",
      "metadata": {
        "id": "rSaP78l5cANO"
      },
      "source": [
        ""
      ],
      "execution_count": null,
      "outputs": []
    }
  ]
}